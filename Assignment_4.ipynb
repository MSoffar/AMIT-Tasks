{
 "cells": [
  {
   "cell_type": "markdown",
   "metadata": {
    "id": "2a0y9sz6Znvf"
   },
   "source": [
    "### Create a simple class names calculator"
   ]
  },
  {
   "cell_type": "code",
   "execution_count": 25,
   "metadata": {},
   "outputs": [],
   "source": [
    "class Calculator:    \n",
    "    pass"
   ]
  },
  {
   "cell_type": "markdown",
   "metadata": {
    "id": "h-9hbnhMZrdV"
   },
   "source": [
    "### Create a constructor that prints Welcome message"
   ]
  },
  {
   "cell_type": "code",
   "execution_count": 31,
   "metadata": {},
   "outputs": [],
   "source": [
    "class Calculator:\n",
    "    def __init__(self):\n",
    "        print(\"Welcome\")"
   ]
  },
  {
   "cell_type": "markdown",
   "metadata": {
    "id": "CciUtqOgZtr9"
   },
   "source": [
    "###  Add 2 methods to the class sum & mull"
   ]
  },
  {
   "cell_type": "code",
   "execution_count": 27,
   "metadata": {},
   "outputs": [],
   "source": [
    "class Calculator:\n",
    "    def __init__(self):\n",
    "        print(\"Welcome\")\n",
    "    def sum (self,a,b):\n",
    "        pass\n",
    "    def mull(self,a,b):\n",
    "        pass\n"
   ]
  },
  {
   "cell_type": "markdown",
   "metadata": {
    "id": "KX9v_nj0ZwX7"
   },
   "source": [
    "###  The sum method return the sum of 2 arguments x and y"
   ]
  },
  {
   "cell_type": "code",
   "execution_count": 28,
   "metadata": {},
   "outputs": [],
   "source": [
    "class Calculator:\n",
    "    def __init__(self):\n",
    "        print(\"Welcome\")\n",
    "    def sum (self,a,b):\n",
    "        return a+b\n",
    "    def mull(self,a,b):\n",
    "        pass"
   ]
  },
  {
   "cell_type": "markdown",
   "metadata": {
    "id": "z-zkBmIzZ1mI"
   },
   "source": [
    "### The mull method return the multiplication of the arguments x and y"
   ]
  },
  {
   "cell_type": "code",
   "execution_count": 40,
   "metadata": {},
   "outputs": [],
   "source": [
    "class Calculator:\n",
    "    def __init__(self):\n",
    "        print(\"Welcome\")\n",
    "    def sum (self,a,b):\n",
    "        return a+b\n",
    "    def mull(self,a,b):\n",
    "        return a*b"
   ]
  },
  {
   "cell_type": "markdown",
   "metadata": {
    "id": "EvC_D3eHZ3mf"
   },
   "source": [
    "###  Take an object from the class"
   ]
  },
  {
   "cell_type": "code",
   "execution_count": 30,
   "metadata": {},
   "outputs": [
    {
     "name": "stdout",
     "output_type": "stream",
     "text": [
      "Welcome\n"
     ]
    }
   ],
   "source": [
    "Cal = Calculator()"
   ]
  },
  {
   "cell_type": "markdown",
   "metadata": {
    "id": "hY6TnxuoZ9jw"
   },
   "source": [
    "### Explain in few words why we call the self in methods"
   ]
  },
  {
   "cell_type": "markdown",
   "metadata": {},
   "source": [
    "it takes an instance of this object, so that when we change in one of the attributes of the object, this specific object only changes, not global change in all objects  "
   ]
  },
  {
   "cell_type": "markdown",
   "metadata": {
    "id": "KdsHy2_CZ_d_"
   },
   "source": [
    "### What we mean with OOP 4 Pillars"
   ]
  },
  {
   "cell_type": "markdown",
   "metadata": {},
   "source": [
    "Abstraction, Polymorphism, Inheritance, Encapsulation"
   ]
  },
  {
   "cell_type": "markdown",
   "metadata": {
    "id": "_WkKdEQSaBlt"
   },
   "source": [
    "###  Why we use OOP in our code"
   ]
  },
  {
   "cell_type": "markdown",
   "metadata": {},
   "source": [
    "to convert anything from real world into a code"
   ]
  },
  {
   "cell_type": "markdown",
   "metadata": {
    "id": "IdJYRpDlaEca"
   },
   "source": [
    "### Create a new class names SciCalc with 3 methods , sum , mull , power all of them takes 2 argument x, y"
   ]
  },
  {
   "cell_type": "code",
   "execution_count": 32,
   "metadata": {},
   "outputs": [],
   "source": [
    "class SciCalc:\n",
    "    def sum (self,x,y):\n",
    "        pass\n",
    "    def mull(self,x,y):\n",
    "        pass\n",
    "    def power(self,x,y):\n",
    "        pass"
   ]
  },
  {
   "cell_type": "markdown",
   "metadata": {
    "id": "qV1wzT51aHlw"
   },
   "source": [
    "### Sum return the sum of x and y"
   ]
  },
  {
   "cell_type": "code",
   "execution_count": 33,
   "metadata": {},
   "outputs": [],
   "source": [
    "class SciCalc:\n",
    "    def sum (self,x,y):\n",
    "        return x+y\n",
    "    def mull(self,x,y):\n",
    "        pass\n",
    "    def power(self,x,y):\n",
    "        pass"
   ]
  },
  {
   "cell_type": "markdown",
   "metadata": {
    "id": "EwdGJ1KVaJ9W"
   },
   "source": [
    "###  Mull return the multiplication of x and y"
   ]
  },
  {
   "cell_type": "code",
   "execution_count": 38,
   "metadata": {},
   "outputs": [],
   "source": [
    "class SciCalc():\n",
    "    def sum (self,x,y):\n",
    "        return x+y\n",
    "    def mull(self,x,y):\n",
    "        return x*y\n",
    "    def power(self,x,y):\n",
    "        return x**y"
   ]
  },
  {
   "cell_type": "markdown",
   "metadata": {
    "id": "aNNs5VAzaVZx"
   },
   "source": [
    "### Inherit from the Calc class , now remove the unneeded code the the SciCalc after inheriting\n"
   ]
  },
  {
   "cell_type": "code",
   "execution_count": 47,
   "metadata": {},
   "outputs": [],
   "source": [
    "class Calculator:\n",
    "    def __init__(self):\n",
    "        print(\"Welcome\")\n",
    "    def sum (self,a,b):\n",
    "        return a+b\n",
    "    def mull(self,a,b):\n",
    "        return a*b"
   ]
  },
  {
   "cell_type": "code",
   "execution_count": 48,
   "metadata": {},
   "outputs": [],
   "source": [
    "class SciCalc(Calculator):\n",
    "    def power(self,x,y):\n",
    "        return x**y"
   ]
  },
  {
   "cell_type": "code",
   "execution_count": 49,
   "metadata": {},
   "outputs": [
    {
     "name": "stdout",
     "output_type": "stream",
     "text": [
      "Welcome\n",
      "8\n",
      "5\n",
      "6\n"
     ]
    }
   ],
   "source": [
    "new = SciCalc()\n",
    "print(new.power(2,3))\n",
    "print(new.sum(2,3))\n",
    "print(new.mull(2,3))"
   ]
  },
  {
   "cell_type": "markdown",
   "metadata": {
    "id": "BkMXbHfMaf5S"
   },
   "source": [
    "### Explain in few words what happened after inheriting"
   ]
  },
  {
   "cell_type": "markdown",
   "metadata": {},
   "source": [
    "all parents in parent class are inherited in child class so no need for them to be in child class unless they have different form than parent, different in implementation or number of arguments, in this way it should be also in child class with its own form"
   ]
  }
 ],
 "metadata": {
  "colab": {
   "private_outputs": true,
   "provenance": []
  },
  "kernelspec": {
   "display_name": "Python 3 (ipykernel)",
   "language": "python",
   "name": "python3"
  },
  "language_info": {
   "codemirror_mode": {
    "name": "ipython",
    "version": 3
   },
   "file_extension": ".py",
   "mimetype": "text/x-python",
   "name": "python",
   "nbconvert_exporter": "python",
   "pygments_lexer": "ipython3",
   "version": "3.11.7"
  }
 },
 "nbformat": 4,
 "nbformat_minor": 4
}
