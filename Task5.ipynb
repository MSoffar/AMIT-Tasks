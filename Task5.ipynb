{
 "cells": [
  {
   "cell_type": "code",
   "execution_count": 17,
   "id": "7da1ca06-02ff-431d-a3bb-181aa4ca9e2e",
   "metadata": {},
   "outputs": [],
   "source": [
    "class Bank:\n",
    "    users = [\n",
    "        {'username': 'Mohamed', 'password': \"123\", 'balance': 1000},\n",
    "        {'username': 'Khaled', 'password': \"1234\", 'balance': 100},\n",
    "        {'username': 'Soffar', 'password': \"12345\", 'balance': 10000}\n",
    "    ]\n",
    "\n",
    "    def __init__(self):\n",
    "        print(\"Welcome to the system\")\n",
    "        self.loadMenu()\n",
    "\n",
    "    def register(self):\n",
    "        x = input(\"Please enter username: \")\n",
    "        while any(user['username'] == x for user in self.users):\n",
    "            x = input(\"Please enter other username as this one is already used: \")\n",
    "        passw = input(\"Enter a password: \")\n",
    "        self.users.append({\"username\": x, \"password\": passw, \"balance\": 0})\n",
    "        self.loadMenu2(self.users[-1])\n",
    "\n",
    "    def login(self):\n",
    "        x = input(\"Please enter username: \")\n",
    "        passw = input(\"Please enter password: \")\n",
    "        while not any(user['username'] == x for user in self.users):\n",
    "            x = input(\"Please enter correct username: \")\n",
    "        user = next(user for user in self.users if user['username'] == x)\n",
    "        if passw == user['password']:\n",
    "            print(\"Login Successfully\")\n",
    "            self.loadMenu2(user)\n",
    "        else:\n",
    "            print(\"Incorrect password. Login failed.\")\n",
    "\n",
    "    def loadMenu(self):\n",
    "        while True:\n",
    "            print(\"1. Register\")\n",
    "            print(\"2. Login\")\n",
    "            print(\"0. Close System\")\n",
    "            z = input(\"Please choose an option: \")\n",
    "            if z == '1':\n",
    "                self.register()\n",
    "            elif z == '2':\n",
    "                self.login()\n",
    "            elif z == '0':\n",
    "                print(\"System Closed Successfully\")\n",
    "                break\n",
    "            else:\n",
    "                print(\"Choose a valid option\")\n",
    "\n",
    "    def loadMenu2(self, user):\n",
    "        while True:\n",
    "            print('''                     1. Deposit\n",
    "                     2. Withdraw\n",
    "                     3. Check Balance\n",
    "                     4. Logout\n",
    "                  ''')\n",
    "            x = input(\"Please choose a number from the menu: \")\n",
    "            if x == '1':\n",
    "                self.deposit(user)\n",
    "            elif x == '2':\n",
    "                self.withdraw(user)\n",
    "            elif x == '3':\n",
    "                self.check(user)\n",
    "            elif x == '4':\n",
    "                break\n",
    "            else:\n",
    "                print(\"Choose valid option\")\n",
    "\n",
    "    def deposit(self, user):\n",
    "        x = int(input(\"Please enter the number you want to deposit: \"))\n",
    "        user['balance'] += x\n",
    "\n",
    "    def withdraw(self, user):\n",
    "        x = int(input(\"Please enter the number you want to withdraw: \"))\n",
    "        if user['balance'] >= x:\n",
    "            user['balance'] -= x\n",
    "        else:\n",
    "            print(\"Insufficient balance\")\n",
    "\n",
    "    def check(self, user):\n",
    "        print(\"Current balance:\", user['balance'])\n"
   ]
  },
  {
   "cell_type": "code",
   "execution_count": 18,
   "id": "a4c7e373-7748-44fd-9a28-6a6fa86c1d52",
   "metadata": {},
   "outputs": [
    {
     "name": "stdout",
     "output_type": "stream",
     "text": [
      "Welcome to the system\n",
      "1. Register\n",
      "2. Login\n",
      "0. Close System\n"
     ]
    },
    {
     "name": "stdin",
     "output_type": "stream",
     "text": [
      "Please choose an option:  1\n",
      "Please enter username:  Mohamed\n",
      "Please enter other username as this one is already used:  MohamedKhaled\n",
      "Enter a password:  1234\n"
     ]
    },
    {
     "name": "stdout",
     "output_type": "stream",
     "text": [
      "                     1. Deposit\n",
      "                     2. Withdraw\n",
      "                     3. Check Balance\n",
      "                     4. Logout\n",
      "                  \n"
     ]
    },
    {
     "name": "stdin",
     "output_type": "stream",
     "text": [
      "Please choose a number from the menu:  3\n"
     ]
    },
    {
     "name": "stdout",
     "output_type": "stream",
     "text": [
      "Current balance: 0\n",
      "                     1. Deposit\n",
      "                     2. Withdraw\n",
      "                     3. Check Balance\n",
      "                     4. Logout\n",
      "                  \n"
     ]
    },
    {
     "name": "stdin",
     "output_type": "stream",
     "text": [
      "Please choose a number from the menu:  2\n",
      "Please enter the number you want to withdraw:  1500\n"
     ]
    },
    {
     "name": "stdout",
     "output_type": "stream",
     "text": [
      "Insufficient balance\n",
      "                     1. Deposit\n",
      "                     2. Withdraw\n",
      "                     3. Check Balance\n",
      "                     4. Logout\n",
      "                  \n"
     ]
    },
    {
     "name": "stdin",
     "output_type": "stream",
     "text": [
      "Please choose a number from the menu:  1\n",
      "Please enter the number you want to deposit:  1500\n"
     ]
    },
    {
     "name": "stdout",
     "output_type": "stream",
     "text": [
      "                     1. Deposit\n",
      "                     2. Withdraw\n",
      "                     3. Check Balance\n",
      "                     4. Logout\n",
      "                  \n"
     ]
    },
    {
     "name": "stdin",
     "output_type": "stream",
     "text": [
      "Please choose a number from the menu:  2\n",
      "Please enter the number you want to withdraw:  1200\n"
     ]
    },
    {
     "name": "stdout",
     "output_type": "stream",
     "text": [
      "                     1. Deposit\n",
      "                     2. Withdraw\n",
      "                     3. Check Balance\n",
      "                     4. Logout\n",
      "                  \n"
     ]
    },
    {
     "name": "stdin",
     "output_type": "stream",
     "text": [
      "Please choose a number from the menu:  3\n"
     ]
    },
    {
     "name": "stdout",
     "output_type": "stream",
     "text": [
      "Current balance: 300\n",
      "                     1. Deposit\n",
      "                     2. Withdraw\n",
      "                     3. Check Balance\n",
      "                     4. Logout\n",
      "                  \n"
     ]
    },
    {
     "name": "stdin",
     "output_type": "stream",
     "text": [
      "Please choose a number from the menu:  4\n"
     ]
    },
    {
     "name": "stdout",
     "output_type": "stream",
     "text": [
      "1. Register\n",
      "2. Login\n",
      "0. Close System\n"
     ]
    },
    {
     "name": "stdin",
     "output_type": "stream",
     "text": [
      "Please choose an option:  2\n",
      "Please enter username:  Mohamed\n",
      "Please enter password:  123\n"
     ]
    },
    {
     "name": "stdout",
     "output_type": "stream",
     "text": [
      "Login Successfully\n",
      "                     1. Deposit\n",
      "                     2. Withdraw\n",
      "                     3. Check Balance\n",
      "                     4. Logout\n",
      "                  \n"
     ]
    },
    {
     "name": "stdin",
     "output_type": "stream",
     "text": [
      "Please choose a number from the menu:  3\n"
     ]
    },
    {
     "name": "stdout",
     "output_type": "stream",
     "text": [
      "Current balance: 1000\n",
      "                     1. Deposit\n",
      "                     2. Withdraw\n",
      "                     3. Check Balance\n",
      "                     4. Logout\n",
      "                  \n"
     ]
    },
    {
     "name": "stdin",
     "output_type": "stream",
     "text": [
      "Please choose a number from the menu:  4\n"
     ]
    },
    {
     "name": "stdout",
     "output_type": "stream",
     "text": [
      "1. Register\n",
      "2. Login\n",
      "0. Close System\n"
     ]
    },
    {
     "name": "stdin",
     "output_type": "stream",
     "text": [
      "Please choose an option:  0\n"
     ]
    },
    {
     "name": "stdout",
     "output_type": "stream",
     "text": [
      "System Closed Successfully\n"
     ]
    }
   ],
   "source": [
    "bank = Bank()"
   ]
  },
  {
   "cell_type": "code",
   "execution_count": 19,
   "id": "c96464c8-5501-45f8-9c90-4a95c0765d45",
   "metadata": {},
   "outputs": [],
   "source": [
    "class Library:\n",
    "  gamesList = [\"Fifa24\",\"Gta\",\"WWE\",\"R6S\",\"RDR\",\"Uncharted\"]\n",
    "  lenders = [{\"Lender\": \"Mohamed\" ,\"Game\": \"Fortnite\"},\n",
    "             {\"Lender\": \"Khaled\" ,\"Game\": \"Rocket League\"}\n",
    "             ]\n",
    "  donors = [{\"Donor\": \"Mohamed\" ,\"Game\": \"Fifa21\"},\n",
    "             {\"Donor\": \"Omar\" ,\"Game\": \"Gta\"},\n",
    "             {\"Donor\": \"Youssef\" ,\"Game\": \"WWE\"},\n",
    "            {\"Donor\": \"Hamza\" ,\"Game\": \"R6S\"},\n",
    "             {\"Donor\": \"Mahmoud\" ,\"Game\": \"RDR\"},\n",
    "             {\"Donor\": \"Ossama\" ,\"Game\": \"Uncharted\"}]\n",
    "  def games(self):\n",
    "    print(self.gamesList)\n",
    "  def lend(self):\n",
    "    self.games()\n",
    "    x = input(\"Please Choose a game to borrow: \")\n",
    "    while( x not in self.gamesList):\n",
    "      x = input(\"Game not Found. Please Choose a game from this List: \")\n",
    "    self.gamesList.remove(x)\n",
    "    name = input(\"Please enter name on borrower: \")\n",
    "    self.lenders.append({\"Lender\":name,\"Game\":x})\n",
    "    print(\"Game borrowed Successfully\")\n",
    "  def returnb(self):\n",
    "    name = input(\"Please enter your name: \")\n",
    "    game = input(\"Please enter game name: \")\n",
    "    if({\"Lender\":name,\"Game\":game} in self.lenders):\n",
    "        self.lenders.remove({\"Lender\":name,\"Game\":game})\n",
    "        self.gamesList.append(game)\n",
    "        print(\"Game Returned Successfully!\")\n",
    "    else:\n",
    "        print(\"Game or Lender is incorrect\")\n",
    "  def donate(self):\n",
    "    name = input(\"Please enter your name: \")\n",
    "    game = input(\"Please enter game name: \")\n",
    "    self.donors.append({\"Donor\":name,\"Game\":game})\n",
    "    self.gamesList.append(game)\n",
    "  def LoadMenu(self):\n",
    "    while(1):\n",
    "      print('''                      1.Games List\n",
    "                      2. Donate\n",
    "                      3. Borrow\n",
    "                      4. Return\n",
    "                      5. Close System\n",
    "                    ''')\n",
    "      x = int(input(\"Please choose a number from the menu: \"))\n",
    "      if(x==1):\n",
    "        self.games()\n",
    "      elif(x==2):\n",
    "         self.donate()\n",
    "      elif(x==3):\n",
    "        self.lend()\n",
    "      elif(x==4):\n",
    "        self.returnb()\n",
    "      else:\n",
    "        print(\"System Closed Successfully\")\n",
    "        break\n",
    "    \n",
    "  def __init__(self):\n",
    "    print(\"Welcome to the Library System\")\n",
    "    self.LoadMenu()\n"
   ]
  },
  {
   "cell_type": "code",
   "execution_count": 20,
   "id": "0143ed78-f0c1-436c-972e-712c7787e637",
   "metadata": {},
   "outputs": [
    {
     "name": "stdout",
     "output_type": "stream",
     "text": [
      "Welcome to the Library System\n",
      "                      1.Games List\n",
      "                      2. Donate\n",
      "                      3. Borrow\n",
      "                      4. Return\n",
      "                      5. Close System\n",
      "                    \n"
     ]
    },
    {
     "name": "stdin",
     "output_type": "stream",
     "text": [
      "Please choose a number from the menu:  1\n"
     ]
    },
    {
     "name": "stdout",
     "output_type": "stream",
     "text": [
      "['Fifa24', 'Gta', 'WWE', 'R6S', 'RDR', 'Uncharted']\n",
      "                      1.Games List\n",
      "                      2. Donate\n",
      "                      3. Borrow\n",
      "                      4. Return\n",
      "                      5. Close System\n",
      "                    \n"
     ]
    },
    {
     "name": "stdin",
     "output_type": "stream",
     "text": [
      "Please choose a number from the menu:  2\n",
      "Please enter your name:  Mohamed\n",
      "Please enter game name:  Fifa23\n"
     ]
    },
    {
     "name": "stdout",
     "output_type": "stream",
     "text": [
      "                      1.Games List\n",
      "                      2. Donate\n",
      "                      3. Borrow\n",
      "                      4. Return\n",
      "                      5. Close System\n",
      "                    \n"
     ]
    },
    {
     "name": "stdin",
     "output_type": "stream",
     "text": [
      "Please choose a number from the menu:  3\n"
     ]
    },
    {
     "name": "stdout",
     "output_type": "stream",
     "text": [
      "['Fifa24', 'Gta', 'WWE', 'R6S', 'RDR', 'Uncharted', 'Fifa23']\n"
     ]
    },
    {
     "name": "stdin",
     "output_type": "stream",
     "text": [
      "Please Choose a game to borrow:  Fifa23\n",
      "Please enter name on borrower:  Omar\n"
     ]
    },
    {
     "name": "stdout",
     "output_type": "stream",
     "text": [
      "Game borrowed Successfully\n",
      "                      1.Games List\n",
      "                      2. Donate\n",
      "                      3. Borrow\n",
      "                      4. Return\n",
      "                      5. Close System\n",
      "                    \n"
     ]
    },
    {
     "name": "stdin",
     "output_type": "stream",
     "text": [
      "Please choose a number from the menu:  4\n",
      "Please enter your name:  Mohamed\n",
      "Please enter game name:  Fifa23\n"
     ]
    },
    {
     "name": "stdout",
     "output_type": "stream",
     "text": [
      "Game or Lender is incorrect\n",
      "                      1.Games List\n",
      "                      2. Donate\n",
      "                      3. Borrow\n",
      "                      4. Return\n",
      "                      5. Close System\n",
      "                    \n"
     ]
    },
    {
     "name": "stdin",
     "output_type": "stream",
     "text": [
      "Please choose a number from the menu:  4\n",
      "Please enter your name:  Omar\n",
      "Please enter game name:  Fifa23\n"
     ]
    },
    {
     "name": "stdout",
     "output_type": "stream",
     "text": [
      "Game Returned Successfully!\n",
      "                      1.Games List\n",
      "                      2. Donate\n",
      "                      3. Borrow\n",
      "                      4. Return\n",
      "                      5. Close System\n",
      "                    \n"
     ]
    },
    {
     "name": "stdin",
     "output_type": "stream",
     "text": [
      "Please choose a number from the menu:  5\n"
     ]
    },
    {
     "name": "stdout",
     "output_type": "stream",
     "text": [
      "System Closed Successfully\n"
     ]
    }
   ],
   "source": [
    "Lib = Library()"
   ]
  },
  {
   "cell_type": "code",
   "execution_count": null,
   "id": "6439acb2-ae70-4fd2-af4c-43730e4de2c4",
   "metadata": {},
   "outputs": [],
   "source": []
  }
 ],
 "metadata": {
  "kernelspec": {
   "display_name": "Python 3 (ipykernel)",
   "language": "python",
   "name": "python3"
  },
  "language_info": {
   "codemirror_mode": {
    "name": "ipython",
    "version": 3
   },
   "file_extension": ".py",
   "mimetype": "text/x-python",
   "name": "python",
   "nbconvert_exporter": "python",
   "pygments_lexer": "ipython3",
   "version": "3.11.7"
  }
 },
 "nbformat": 4,
 "nbformat_minor": 5
}
