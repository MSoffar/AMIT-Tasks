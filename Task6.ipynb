{
  "nbformat": 4,
  "nbformat_minor": 0,
  "metadata": {
    "colab": {
      "provenance": []
    },
    "kernelspec": {
      "name": "python3",
      "display_name": "Python 3"
    },
    "language_info": {
      "name": "python"
    }
  },
  "cells": [
    {
      "cell_type": "code",
      "execution_count": 1,
      "metadata": {
        "id": "qkMtEHJmhT2N"
      },
      "outputs": [],
      "source": [
        "import numpy as np"
      ]
    },
    {
      "cell_type": "code",
      "source": [
        "arr1 = np.array([1,2,0,3,4,5,0,5,6])\n",
        "arr2 = np.array([1.01,2,0,3,4.05,5,0,5,6.01])\n",
        "print(arr1.shape)\n",
        "print(arr2.shape)"
      ],
      "metadata": {
        "id": "lb1ca9HohiR7",
        "colab": {
          "base_uri": "https://localhost:8080/"
        },
        "outputId": "e69a2357-bb4f-43b5-bab5-4ddb1354e117"
      },
      "execution_count": 24,
      "outputs": [
        {
          "output_type": "stream",
          "name": "stdout",
          "text": [
            "(9,)\n",
            "(9,)\n"
          ]
        }
      ]
    },
    {
      "cell_type": "markdown",
      "source": [
        "**    1-Write a NumPy program to test whether none of the elements of a given array is zero.**"
      ],
      "metadata": {
        "id": "0CmS0sAshypg"
      }
    },
    {
      "cell_type": "code",
      "source": [
        "arr1==0"
      ],
      "metadata": {
        "colab": {
          "base_uri": "https://localhost:8080/"
        },
        "id": "Eg60WUOzhl54",
        "outputId": "b1fef45c-0aef-4fd4-c492-884efddbe6e0"
      },
      "execution_count": 3,
      "outputs": [
        {
          "output_type": "execute_result",
          "data": {
            "text/plain": [
              "array([False, False,  True, False, False, False,  True, False, False])"
            ]
          },
          "metadata": {},
          "execution_count": 3
        }
      ]
    },
    {
      "cell_type": "markdown",
      "source": [
        "2-Write a NumPy program to test whether any of the elements of a given array is non-zero."
      ],
      "metadata": {
        "id": "PokCtytPh2b-"
      }
    },
    {
      "cell_type": "code",
      "source": [
        "arr1!=0"
      ],
      "metadata": {
        "colab": {
          "base_uri": "https://localhost:8080/"
        },
        "id": "Bh4oFNQ5ho5O",
        "outputId": "a5a9dc9b-7bdb-43de-bd60-97b5b048ff6b"
      },
      "execution_count": 4,
      "outputs": [
        {
          "output_type": "execute_result",
          "data": {
            "text/plain": [
              "array([ True,  True, False,  True,  True,  True, False,  True,  True])"
            ]
          },
          "metadata": {},
          "execution_count": 4
        }
      ]
    },
    {
      "cell_type": "markdown",
      "source": [
        "3-Write a NumPy program to create an element-wise comparison (equal, equal within a tolerance) of two\n",
        "given arrays\n"
      ],
      "metadata": {
        "id": "L88Jz5ZTiFMN"
      }
    },
    {
      "cell_type": "code",
      "source": [
        "print(np.allclose(arr1,arr2))\n",
        "print(np.allclose(arr1,arr2,atol = 0.05))\n",
        "print(np.allclose(arr1,arr2,atol = 0.001))"
      ],
      "metadata": {
        "id": "kro39TeLiBPz",
        "colab": {
          "base_uri": "https://localhost:8080/"
        },
        "outputId": "38367f7f-bac8-4fe2-fa40-a95b286a1d6c"
      },
      "execution_count": 28,
      "outputs": [
        {
          "output_type": "stream",
          "name": "stdout",
          "text": [
            "False\n",
            "True\n",
            "False\n"
          ]
        }
      ]
    },
    {
      "cell_type": "markdown",
      "source": [
        "4- Write a NumPy program to create an array of 10 zeros,10 ones, 10 fives."
      ],
      "metadata": {
        "id": "Lq9IcgDhjJu3"
      }
    },
    {
      "cell_type": "code",
      "source": [
        "arr1 = np.zeros(10)\n",
        "arr2=np.ones(10)\n",
        "arr3 = 5*np.ones(10)\n",
        "arr4 = np.hstack((arr1, arr2))\n",
        "arr5 = np.hstack((arr4, arr3))\n",
        "arr5"
      ],
      "metadata": {
        "colab": {
          "base_uri": "https://localhost:8080/"
        },
        "id": "aSPvfSS1is3N",
        "outputId": "c1720979-b51a-4bb6-d1d9-725258e36f4f"
      },
      "execution_count": 5,
      "outputs": [
        {
          "output_type": "execute_result",
          "data": {
            "text/plain": [
              "array([0., 0., 0., 0., 0., 0., 0., 0., 0., 0., 1., 1., 1., 1., 1., 1., 1.,\n",
              "       1., 1., 1., 5., 5., 5., 5., 5., 5., 5., 5., 5., 5.])"
            ]
          },
          "metadata": {},
          "execution_count": 5
        }
      ]
    },
    {
      "cell_type": "markdown",
      "source": [
        "5-Write a NumPy program to create an array of the integers from 30 to70."
      ],
      "metadata": {
        "id": "geMhtfBHjMRE"
      }
    },
    {
      "cell_type": "code",
      "source": [
        "np.arange(30,71)"
      ],
      "metadata": {
        "colab": {
          "base_uri": "https://localhost:8080/"
        },
        "id": "nD92ZDbTi3Ac",
        "outputId": "8ee3e680-c130-4458-ce93-4b0967d6ff6f"
      },
      "execution_count": 6,
      "outputs": [
        {
          "output_type": "execute_result",
          "data": {
            "text/plain": [
              "array([30, 31, 32, 33, 34, 35, 36, 37, 38, 39, 40, 41, 42, 43, 44, 45, 46,\n",
              "       47, 48, 49, 50, 51, 52, 53, 54, 55, 56, 57, 58, 59, 60, 61, 62, 63,\n",
              "       64, 65, 66, 67, 68, 69, 70])"
            ]
          },
          "metadata": {},
          "execution_count": 6
        }
      ]
    },
    {
      "cell_type": "markdown",
      "source": [
        "6.    Write a NumPy program to create a 3x3 identity matrix"
      ],
      "metadata": {
        "id": "BybpLHYljW82"
      }
    },
    {
      "cell_type": "code",
      "source": [
        "np.identity(3)"
      ],
      "metadata": {
        "colab": {
          "base_uri": "https://localhost:8080/"
        },
        "id": "o6Wsf1apjQvb",
        "outputId": "b4ca9593-8af5-4c19-9e01-dce05dc2eafd"
      },
      "execution_count": 7,
      "outputs": [
        {
          "output_type": "execute_result",
          "data": {
            "text/plain": [
              "array([[1., 0., 0.],\n",
              "       [0., 1., 0.],\n",
              "       [0., 0., 1.]])"
            ]
          },
          "metadata": {},
          "execution_count": 7
        }
      ]
    },
    {
      "cell_type": "markdown",
      "source": [
        "7.    Write a NumPy program to generate a random number between 0 and 1"
      ],
      "metadata": {
        "id": "vLWY6Vuqjb5O"
      }
    },
    {
      "cell_type": "code",
      "source": [
        "np.random.rand(1)"
      ],
      "metadata": {
        "colab": {
          "base_uri": "https://localhost:8080/"
        },
        "id": "nDMJyGeKjVjT",
        "outputId": "cfb487a0-ddcf-42ed-c384-d23598c42ca4"
      },
      "execution_count": 8,
      "outputs": [
        {
          "output_type": "execute_result",
          "data": {
            "text/plain": [
              "array([0.40129692])"
            ]
          },
          "metadata": {},
          "execution_count": 8
        }
      ]
    },
    {
      "cell_type": "markdown",
      "source": [
        "8-Write a NumPy program to generate an array of 15 random numbers from a standard normal\n",
        "distribution"
      ],
      "metadata": {
        "id": "7dcxPGeVjkd4"
      }
    },
    {
      "cell_type": "code",
      "source": [
        "np.random.rand(15)"
      ],
      "metadata": {
        "colab": {
          "base_uri": "https://localhost:8080/"
        },
        "id": "1J1w14xCjfap",
        "outputId": "fe4b56fd-6d75-45e7-ce14-57d619118927"
      },
      "execution_count": 9,
      "outputs": [
        {
          "output_type": "execute_result",
          "data": {
            "text/plain": [
              "array([0.04947652, 0.33320692, 0.97228371, 0.87852865, 0.64080846,\n",
              "       0.29109182, 0.90333762, 0.20991174, 0.20421629, 0.54051462,\n",
              "       0.85728197, 0.47847604, 0.30194864, 0.65289128, 0.01539319])"
            ]
          },
          "metadata": {},
          "execution_count": 9
        }
      ]
    },
    {
      "cell_type": "markdown",
      "source": [
        "9. Write a NumPy program to create a vector with values ranging from 15 to 55 and print all values\n",
        "except the first and last."
      ],
      "metadata": {
        "id": "1ub3OgP-juHl"
      }
    },
    {
      "cell_type": "code",
      "source": [
        "arr1 = np.arange(15,56)\n",
        "arr1[1:-1]"
      ],
      "metadata": {
        "colab": {
          "base_uri": "https://localhost:8080/"
        },
        "id": "0RTyLFr2jqYx",
        "outputId": "f45bc11d-6d31-4ca2-b57b-1f4b91473cad"
      },
      "execution_count": 10,
      "outputs": [
        {
          "output_type": "execute_result",
          "data": {
            "text/plain": [
              "array([16, 17, 18, 19, 20, 21, 22, 23, 24, 25, 26, 27, 28, 29, 30, 31, 32,\n",
              "       33, 34, 35, 36, 37, 38, 39, 40, 41, 42, 43, 44, 45, 46, 47, 48, 49,\n",
              "       50, 51, 52, 53, 54])"
            ]
          },
          "metadata": {},
          "execution_count": 10
        }
      ]
    },
    {
      "cell_type": "markdown",
      "source": [
        "10. Write a NumPy program to create a vector of length 5 filled with arbitrary integers from 0 to 10"
      ],
      "metadata": {
        "id": "vyd4Za45j8GF"
      }
    },
    {
      "cell_type": "code",
      "source": [
        "np.random.randint(0,10,5)"
      ],
      "metadata": {
        "colab": {
          "base_uri": "https://localhost:8080/"
        },
        "id": "GSlJlwrDj3Mo",
        "outputId": "57c89dd0-4c45-48a9-fc8d-07a25425a466"
      },
      "execution_count": 11,
      "outputs": [
        {
          "output_type": "execute_result",
          "data": {
            "text/plain": [
              "array([3, 7, 6, 1, 6])"
            ]
          },
          "metadata": {},
          "execution_count": 11
        }
      ]
    },
    {
      "cell_type": "markdown",
      "source": [
        "11-Write a NumPy program to create a 10x10 matrix, in which the elements on the borders will be equal\n",
        "to 1, and inside 0."
      ],
      "metadata": {
        "id": "9igVmEwIkHvD"
      }
    },
    {
      "cell_type": "code",
      "source": [
        "arr1 = np.zeros([10,10])\n",
        "arr1[0,:]=1\n",
        "arr1[:,0]=1\n",
        "arr1[-1,:]=1\n",
        "arr1[:,-1]=1\n",
        "arr1"
      ],
      "metadata": {
        "colab": {
          "base_uri": "https://localhost:8080/"
        },
        "id": "X9qPdgcpkFBk",
        "outputId": "a84ad377-7e1c-45a6-fccb-04e9666b8ea9"
      },
      "execution_count": 12,
      "outputs": [
        {
          "output_type": "execute_result",
          "data": {
            "text/plain": [
              "array([[1., 1., 1., 1., 1., 1., 1., 1., 1., 1.],\n",
              "       [1., 0., 0., 0., 0., 0., 0., 0., 0., 1.],\n",
              "       [1., 0., 0., 0., 0., 0., 0., 0., 0., 1.],\n",
              "       [1., 0., 0., 0., 0., 0., 0., 0., 0., 1.],\n",
              "       [1., 0., 0., 0., 0., 0., 0., 0., 0., 1.],\n",
              "       [1., 0., 0., 0., 0., 0., 0., 0., 0., 1.],\n",
              "       [1., 0., 0., 0., 0., 0., 0., 0., 0., 1.],\n",
              "       [1., 0., 0., 0., 0., 0., 0., 0., 0., 1.],\n",
              "       [1., 0., 0., 0., 0., 0., 0., 0., 0., 1.],\n",
              "       [1., 1., 1., 1., 1., 1., 1., 1., 1., 1.]])"
            ]
          },
          "metadata": {},
          "execution_count": 12
        }
      ]
    },
    {
      "cell_type": "markdown",
      "source": [
        "12.Write a NumPy program to create a 5x5 zero matrix with elements on the main diagonal equal to 1, 2,\n",
        "3, 4, 5."
      ],
      "metadata": {
        "id": "7OODNZkokqgF"
      }
    },
    {
      "cell_type": "code",
      "source": [
        "arr1 = np.zeros([5,5])\n",
        "for i in range(5):\n",
        "    arr1[i, i] = i+1\n",
        "arr1"
      ],
      "metadata": {
        "colab": {
          "base_uri": "https://localhost:8080/"
        },
        "id": "Lwkpqpc9kRli",
        "outputId": "35ed4bd6-681a-4bdc-e312-f5723bb67bae"
      },
      "execution_count": 13,
      "outputs": [
        {
          "output_type": "execute_result",
          "data": {
            "text/plain": [
              "array([[1., 0., 0., 0., 0.],\n",
              "       [0., 2., 0., 0., 0.],\n",
              "       [0., 0., 3., 0., 0.],\n",
              "       [0., 0., 0., 4., 0.],\n",
              "       [0., 0., 0., 0., 5.]])"
            ]
          },
          "metadata": {},
          "execution_count": 13
        }
      ]
    },
    {
      "cell_type": "markdown",
      "source": [
        "13.Write a NumPy program to create a 4x4 matrix in which 0 and 1 are staggered, with zeros on the main\n",
        "diagonal."
      ],
      "metadata": {
        "id": "fIp-PpPflJaM"
      }
    },
    {
      "cell_type": "code",
      "source": [
        "arr1 = np.zeros([4,4])\n",
        "arr1[1::2, ::2] = 1\n",
        "arr1[::2, 1::2] = 1\n",
        "arr1"
      ],
      "metadata": {
        "id": "9R2JV3lxk8p7",
        "colab": {
          "base_uri": "https://localhost:8080/"
        },
        "outputId": "82077687-4371-4aa4-ef72-46f3dcc916ba"
      },
      "execution_count": 14,
      "outputs": [
        {
          "output_type": "execute_result",
          "data": {
            "text/plain": [
              "array([[0., 1., 0., 1.],\n",
              "       [1., 0., 1., 0.],\n",
              "       [0., 1., 0., 1.],\n",
              "       [1., 0., 1., 0.]])"
            ]
          },
          "metadata": {},
          "execution_count": 14
        }
      ]
    },
    {
      "cell_type": "markdown",
      "source": [
        "14.  Write a NumPy program to save two given arrays into a single file in compressed format (.npz format)\n",
        "and load it."
      ],
      "metadata": {
        "id": "CbtjjVp-P0-n"
      }
    },
    {
      "cell_type": "code",
      "source": [
        "arr1 = np.array([1, 2, 3, 4])\n",
        "arr2 = np.array([5, 6, 7, 8])\n",
        "\n",
        "np.savez_compressed('file.npz', array1=arr1, array2=arr2)\n",
        "data = np.load('file.npz')\n",
        "\n",
        "newArr1 = data['array1']\n",
        "newArr2 = data['array2']\n",
        "\n",
        "print(\"Loaded Array 1:\")\n",
        "print(newArr1)\n",
        "\n",
        "print(\"\\nLoaded Array 2:\")\n",
        "print(newArr2)\n"
      ],
      "metadata": {
        "id": "xyRXOOFontDO",
        "colab": {
          "base_uri": "https://localhost:8080/"
        },
        "outputId": "793836ca-3333-419f-bf62-f0edcf9c10ee"
      },
      "execution_count": 16,
      "outputs": [
        {
          "output_type": "stream",
          "name": "stdout",
          "text": [
            "Loaded Array 1:\n",
            "[1 2 3 4]\n",
            "\n",
            "Loaded Array 2:\n",
            "[5 6 7 8]\n"
          ]
        }
      ]
    },
    {
      "cell_type": "markdown",
      "source": [
        "15- Write a NumPy program to create a one-dimensional array of forty pseudo-randomly generated values.\n",
        "Select"
      ],
      "metadata": {
        "id": "9RPZT3WdRXe9"
      }
    },
    {
      "cell_type": "code",
      "source": [
        "arr1 = np.random.rand(40)\n",
        "arr1"
      ],
      "metadata": {
        "colab": {
          "base_uri": "https://localhost:8080/"
        },
        "id": "6xGaXaZCQXZ1",
        "outputId": "17be6eb4-0d0a-499d-d49b-c6ec1bee097a"
      },
      "execution_count": 17,
      "outputs": [
        {
          "output_type": "execute_result",
          "data": {
            "text/plain": [
              "array([0.92843202, 0.0455503 , 0.8800992 , 0.46396975, 0.03127444,\n",
              "       0.80123557, 0.94769358, 0.08605074, 0.62947867, 0.84832361,\n",
              "       0.01600977, 0.50295115, 0.28564597, 0.89455792, 0.43771703,\n",
              "       0.44296581, 0.95260046, 0.79673009, 0.03741689, 0.28412938,\n",
              "       0.26349964, 0.99110375, 0.22161732, 0.56610806, 0.75512717,\n",
              "       0.6452718 , 0.32876905, 0.37427488, 0.54472688, 0.91501595,\n",
              "       0.38087289, 0.30149768, 0.16674385, 0.09562185, 0.82015829,\n",
              "       0.4725603 , 0.67932155, 0.48881392, 0.27483687, 0.43287266])"
            ]
          },
          "metadata": {},
          "execution_count": 17
        }
      ]
    },
    {
      "cell_type": "markdown",
      "source": [
        "16. Write a NumPy program to extract all numbers from a given array which are less and greater than a\n",
        "specified number."
      ],
      "metadata": {
        "id": "Ah4bkBoaSAZn"
      }
    },
    {
      "cell_type": "code",
      "source": [
        "x = int(input(\"Please enter a number: \"))\n",
        "arr1 = np.array([1,3,6,8,11,0,-2,-5,4,5,7,9,55,33,12,11,-221])\n",
        "arr1[arr1>x]"
      ],
      "metadata": {
        "colab": {
          "base_uri": "https://localhost:8080/"
        },
        "id": "1Z5gdy94RfyK",
        "outputId": "267479be-9e76-4042-9468-7881ec19b664"
      },
      "execution_count": 20,
      "outputs": [
        {
          "name": "stdout",
          "output_type": "stream",
          "text": [
            "Please enter a number: 4\n"
          ]
        },
        {
          "output_type": "execute_result",
          "data": {
            "text/plain": [
              "array([ 6,  8, 11,  5,  7,  9, 55, 33, 12, 11])"
            ]
          },
          "metadata": {},
          "execution_count": 20
        }
      ]
    },
    {
      "cell_type": "code",
      "source": [],
      "metadata": {
        "id": "RIBuTg4iS-UH"
      },
      "execution_count": null,
      "outputs": []
    }
  ]
}