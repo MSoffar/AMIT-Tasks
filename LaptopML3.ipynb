{
  "nbformat": 4,
  "nbformat_minor": 0,
  "metadata": {
    "colab": {
      "provenance": []
    },
    "kernelspec": {
      "name": "python3",
      "display_name": "Python 3"
    },
    "language_info": {
      "name": "python"
    }
  },
  "cells": [
    {
      "cell_type": "code",
      "execution_count": 126,
      "metadata": {
        "id": "hJTBHBpnx6YI"
      },
      "outputs": [],
      "source": [
        "import numpy as np\n",
        "import pandas as pd\n",
        "import matplotlib.pyplot as plt\n",
        "import seaborn as sns\n",
        "import math\n",
        "from sklearn.model_selection import train_test_split\n",
        "from sklearn.preprocessing import StandardScaler\n",
        "from sklearn.linear_model import LinearRegression,Ridge,Lasso\n",
        "from sklearn.ensemble import RandomForestRegressor\n",
        "\n",
        "from sklearn.metrics import mean_squared_error,r2_score\n",
        "import warnings\n",
        "from sklearn.tree import DecisionTreeRegressor\n",
        "from sklearn.model_selection import GridSearchCV\n",
        "import seaborn as sns\n",
        "import matplotlib.pyplot as plt\n",
        "warnings.filterwarnings('ignore')\n",
        "import data_cleaning_visualization as cv\n",
        "cleaner=cv.DataCleaningAndVisualization()"
      ]
    },
    {
      "cell_type": "code",
      "source": [
        "try:\n",
        "    df = pd.read_csv('/content/laptop_price.csv', encoding='latin1')\n",
        "except UnicodeDecodeError:\n",
        "    df = pd.read_csv('/content/laptop_price.csv', encoding='cp1252')\n",
        "df.head()"
      ],
      "metadata": {
        "colab": {
          "base_uri": "https://localhost:8080/",
          "height": 452
        },
        "id": "Z1xUzywpyEjr",
        "outputId": "8292af1f-fb97-4f20-a792-480d294d2156"
      },
      "execution_count": 80,
      "outputs": [
        {
          "output_type": "execute_result",
          "data": {
            "text/plain": [
              "   laptop_ID Company      Product   TypeName  Inches  \\\n",
              "0          1   Apple  MacBook Pro  Ultrabook    13.3   \n",
              "1          2   Apple  Macbook Air  Ultrabook    13.3   \n",
              "2          3      HP       250 G6   Notebook    15.6   \n",
              "3          4   Apple  MacBook Pro  Ultrabook    15.4   \n",
              "4          5   Apple  MacBook Pro  Ultrabook    13.3   \n",
              "\n",
              "                     ScreenResolution                         Cpu   Ram  \\\n",
              "0  IPS Panel Retina Display 2560x1600        Intel Core i5 2.3GHz   8GB   \n",
              "1                            1440x900        Intel Core i5 1.8GHz   8GB   \n",
              "2                   Full HD 1920x1080  Intel Core i5 7200U 2.5GHz   8GB   \n",
              "3  IPS Panel Retina Display 2880x1800        Intel Core i7 2.7GHz  16GB   \n",
              "4  IPS Panel Retina Display 2560x1600        Intel Core i5 3.1GHz   8GB   \n",
              "\n",
              "                Memory                           Gpu  OpSys  Weight  \\\n",
              "0            128GB SSD  Intel Iris Plus Graphics 640  macOS  1.37kg   \n",
              "1  128GB Flash Storage        Intel HD Graphics 6000  macOS  1.34kg   \n",
              "2            256GB SSD         Intel HD Graphics 620  No OS  1.86kg   \n",
              "3            512GB SSD            AMD Radeon Pro 455  macOS  1.83kg   \n",
              "4            256GB SSD  Intel Iris Plus Graphics 650  macOS  1.37kg   \n",
              "\n",
              "   Price_euros  \n",
              "0      1339.69  \n",
              "1       898.94  \n",
              "2       575.00  \n",
              "3      2537.45  \n",
              "4      1803.60  "
            ],
            "text/html": [
              "\n",
              "  <div id=\"df-7515e25a-c239-4001-8d3e-6d4af4b3db52\" class=\"colab-df-container\">\n",
              "    <div>\n",
              "<style scoped>\n",
              "    .dataframe tbody tr th:only-of-type {\n",
              "        vertical-align: middle;\n",
              "    }\n",
              "\n",
              "    .dataframe tbody tr th {\n",
              "        vertical-align: top;\n",
              "    }\n",
              "\n",
              "    .dataframe thead th {\n",
              "        text-align: right;\n",
              "    }\n",
              "</style>\n",
              "<table border=\"1\" class=\"dataframe\">\n",
              "  <thead>\n",
              "    <tr style=\"text-align: right;\">\n",
              "      <th></th>\n",
              "      <th>laptop_ID</th>\n",
              "      <th>Company</th>\n",
              "      <th>Product</th>\n",
              "      <th>TypeName</th>\n",
              "      <th>Inches</th>\n",
              "      <th>ScreenResolution</th>\n",
              "      <th>Cpu</th>\n",
              "      <th>Ram</th>\n",
              "      <th>Memory</th>\n",
              "      <th>Gpu</th>\n",
              "      <th>OpSys</th>\n",
              "      <th>Weight</th>\n",
              "      <th>Price_euros</th>\n",
              "    </tr>\n",
              "  </thead>\n",
              "  <tbody>\n",
              "    <tr>\n",
              "      <th>0</th>\n",
              "      <td>1</td>\n",
              "      <td>Apple</td>\n",
              "      <td>MacBook Pro</td>\n",
              "      <td>Ultrabook</td>\n",
              "      <td>13.3</td>\n",
              "      <td>IPS Panel Retina Display 2560x1600</td>\n",
              "      <td>Intel Core i5 2.3GHz</td>\n",
              "      <td>8GB</td>\n",
              "      <td>128GB SSD</td>\n",
              "      <td>Intel Iris Plus Graphics 640</td>\n",
              "      <td>macOS</td>\n",
              "      <td>1.37kg</td>\n",
              "      <td>1339.69</td>\n",
              "    </tr>\n",
              "    <tr>\n",
              "      <th>1</th>\n",
              "      <td>2</td>\n",
              "      <td>Apple</td>\n",
              "      <td>Macbook Air</td>\n",
              "      <td>Ultrabook</td>\n",
              "      <td>13.3</td>\n",
              "      <td>1440x900</td>\n",
              "      <td>Intel Core i5 1.8GHz</td>\n",
              "      <td>8GB</td>\n",
              "      <td>128GB Flash Storage</td>\n",
              "      <td>Intel HD Graphics 6000</td>\n",
              "      <td>macOS</td>\n",
              "      <td>1.34kg</td>\n",
              "      <td>898.94</td>\n",
              "    </tr>\n",
              "    <tr>\n",
              "      <th>2</th>\n",
              "      <td>3</td>\n",
              "      <td>HP</td>\n",
              "      <td>250 G6</td>\n",
              "      <td>Notebook</td>\n",
              "      <td>15.6</td>\n",
              "      <td>Full HD 1920x1080</td>\n",
              "      <td>Intel Core i5 7200U 2.5GHz</td>\n",
              "      <td>8GB</td>\n",
              "      <td>256GB SSD</td>\n",
              "      <td>Intel HD Graphics 620</td>\n",
              "      <td>No OS</td>\n",
              "      <td>1.86kg</td>\n",
              "      <td>575.00</td>\n",
              "    </tr>\n",
              "    <tr>\n",
              "      <th>3</th>\n",
              "      <td>4</td>\n",
              "      <td>Apple</td>\n",
              "      <td>MacBook Pro</td>\n",
              "      <td>Ultrabook</td>\n",
              "      <td>15.4</td>\n",
              "      <td>IPS Panel Retina Display 2880x1800</td>\n",
              "      <td>Intel Core i7 2.7GHz</td>\n",
              "      <td>16GB</td>\n",
              "      <td>512GB SSD</td>\n",
              "      <td>AMD Radeon Pro 455</td>\n",
              "      <td>macOS</td>\n",
              "      <td>1.83kg</td>\n",
              "      <td>2537.45</td>\n",
              "    </tr>\n",
              "    <tr>\n",
              "      <th>4</th>\n",
              "      <td>5</td>\n",
              "      <td>Apple</td>\n",
              "      <td>MacBook Pro</td>\n",
              "      <td>Ultrabook</td>\n",
              "      <td>13.3</td>\n",
              "      <td>IPS Panel Retina Display 2560x1600</td>\n",
              "      <td>Intel Core i5 3.1GHz</td>\n",
              "      <td>8GB</td>\n",
              "      <td>256GB SSD</td>\n",
              "      <td>Intel Iris Plus Graphics 650</td>\n",
              "      <td>macOS</td>\n",
              "      <td>1.37kg</td>\n",
              "      <td>1803.60</td>\n",
              "    </tr>\n",
              "  </tbody>\n",
              "</table>\n",
              "</div>\n",
              "    <div class=\"colab-df-buttons\">\n",
              "\n",
              "  <div class=\"colab-df-container\">\n",
              "    <button class=\"colab-df-convert\" onclick=\"convertToInteractive('df-7515e25a-c239-4001-8d3e-6d4af4b3db52')\"\n",
              "            title=\"Convert this dataframe to an interactive table.\"\n",
              "            style=\"display:none;\">\n",
              "\n",
              "  <svg xmlns=\"http://www.w3.org/2000/svg\" height=\"24px\" viewBox=\"0 -960 960 960\">\n",
              "    <path d=\"M120-120v-720h720v720H120Zm60-500h600v-160H180v160Zm220 220h160v-160H400v160Zm0 220h160v-160H400v160ZM180-400h160v-160H180v160Zm440 0h160v-160H620v160ZM180-180h160v-160H180v160Zm440 0h160v-160H620v160Z\"/>\n",
              "  </svg>\n",
              "    </button>\n",
              "\n",
              "  <style>\n",
              "    .colab-df-container {\n",
              "      display:flex;\n",
              "      gap: 12px;\n",
              "    }\n",
              "\n",
              "    .colab-df-convert {\n",
              "      background-color: #E8F0FE;\n",
              "      border: none;\n",
              "      border-radius: 50%;\n",
              "      cursor: pointer;\n",
              "      display: none;\n",
              "      fill: #1967D2;\n",
              "      height: 32px;\n",
              "      padding: 0 0 0 0;\n",
              "      width: 32px;\n",
              "    }\n",
              "\n",
              "    .colab-df-convert:hover {\n",
              "      background-color: #E2EBFA;\n",
              "      box-shadow: 0px 1px 2px rgba(60, 64, 67, 0.3), 0px 1px 3px 1px rgba(60, 64, 67, 0.15);\n",
              "      fill: #174EA6;\n",
              "    }\n",
              "\n",
              "    .colab-df-buttons div {\n",
              "      margin-bottom: 4px;\n",
              "    }\n",
              "\n",
              "    [theme=dark] .colab-df-convert {\n",
              "      background-color: #3B4455;\n",
              "      fill: #D2E3FC;\n",
              "    }\n",
              "\n",
              "    [theme=dark] .colab-df-convert:hover {\n",
              "      background-color: #434B5C;\n",
              "      box-shadow: 0px 1px 3px 1px rgba(0, 0, 0, 0.15);\n",
              "      filter: drop-shadow(0px 1px 2px rgba(0, 0, 0, 0.3));\n",
              "      fill: #FFFFFF;\n",
              "    }\n",
              "  </style>\n",
              "\n",
              "    <script>\n",
              "      const buttonEl =\n",
              "        document.querySelector('#df-7515e25a-c239-4001-8d3e-6d4af4b3db52 button.colab-df-convert');\n",
              "      buttonEl.style.display =\n",
              "        google.colab.kernel.accessAllowed ? 'block' : 'none';\n",
              "\n",
              "      async function convertToInteractive(key) {\n",
              "        const element = document.querySelector('#df-7515e25a-c239-4001-8d3e-6d4af4b3db52');\n",
              "        const dataTable =\n",
              "          await google.colab.kernel.invokeFunction('convertToInteractive',\n",
              "                                                    [key], {});\n",
              "        if (!dataTable) return;\n",
              "\n",
              "        const docLinkHtml = 'Like what you see? Visit the ' +\n",
              "          '<a target=\"_blank\" href=https://colab.research.google.com/notebooks/data_table.ipynb>data table notebook</a>'\n",
              "          + ' to learn more about interactive tables.';\n",
              "        element.innerHTML = '';\n",
              "        dataTable['output_type'] = 'display_data';\n",
              "        await google.colab.output.renderOutput(dataTable, element);\n",
              "        const docLink = document.createElement('div');\n",
              "        docLink.innerHTML = docLinkHtml;\n",
              "        element.appendChild(docLink);\n",
              "      }\n",
              "    </script>\n",
              "  </div>\n",
              "\n",
              "\n",
              "<div id=\"df-4f95e91d-5fb3-443d-b566-462e18a9bb10\">\n",
              "  <button class=\"colab-df-quickchart\" onclick=\"quickchart('df-4f95e91d-5fb3-443d-b566-462e18a9bb10')\"\n",
              "            title=\"Suggest charts\"\n",
              "            style=\"display:none;\">\n",
              "\n",
              "<svg xmlns=\"http://www.w3.org/2000/svg\" height=\"24px\"viewBox=\"0 0 24 24\"\n",
              "     width=\"24px\">\n",
              "    <g>\n",
              "        <path d=\"M19 3H5c-1.1 0-2 .9-2 2v14c0 1.1.9 2 2 2h14c1.1 0 2-.9 2-2V5c0-1.1-.9-2-2-2zM9 17H7v-7h2v7zm4 0h-2V7h2v10zm4 0h-2v-4h2v4z\"/>\n",
              "    </g>\n",
              "</svg>\n",
              "  </button>\n",
              "\n",
              "<style>\n",
              "  .colab-df-quickchart {\n",
              "      --bg-color: #E8F0FE;\n",
              "      --fill-color: #1967D2;\n",
              "      --hover-bg-color: #E2EBFA;\n",
              "      --hover-fill-color: #174EA6;\n",
              "      --disabled-fill-color: #AAA;\n",
              "      --disabled-bg-color: #DDD;\n",
              "  }\n",
              "\n",
              "  [theme=dark] .colab-df-quickchart {\n",
              "      --bg-color: #3B4455;\n",
              "      --fill-color: #D2E3FC;\n",
              "      --hover-bg-color: #434B5C;\n",
              "      --hover-fill-color: #FFFFFF;\n",
              "      --disabled-bg-color: #3B4455;\n",
              "      --disabled-fill-color: #666;\n",
              "  }\n",
              "\n",
              "  .colab-df-quickchart {\n",
              "    background-color: var(--bg-color);\n",
              "    border: none;\n",
              "    border-radius: 50%;\n",
              "    cursor: pointer;\n",
              "    display: none;\n",
              "    fill: var(--fill-color);\n",
              "    height: 32px;\n",
              "    padding: 0;\n",
              "    width: 32px;\n",
              "  }\n",
              "\n",
              "  .colab-df-quickchart:hover {\n",
              "    background-color: var(--hover-bg-color);\n",
              "    box-shadow: 0 1px 2px rgba(60, 64, 67, 0.3), 0 1px 3px 1px rgba(60, 64, 67, 0.15);\n",
              "    fill: var(--button-hover-fill-color);\n",
              "  }\n",
              "\n",
              "  .colab-df-quickchart-complete:disabled,\n",
              "  .colab-df-quickchart-complete:disabled:hover {\n",
              "    background-color: var(--disabled-bg-color);\n",
              "    fill: var(--disabled-fill-color);\n",
              "    box-shadow: none;\n",
              "  }\n",
              "\n",
              "  .colab-df-spinner {\n",
              "    border: 2px solid var(--fill-color);\n",
              "    border-color: transparent;\n",
              "    border-bottom-color: var(--fill-color);\n",
              "    animation:\n",
              "      spin 1s steps(1) infinite;\n",
              "  }\n",
              "\n",
              "  @keyframes spin {\n",
              "    0% {\n",
              "      border-color: transparent;\n",
              "      border-bottom-color: var(--fill-color);\n",
              "      border-left-color: var(--fill-color);\n",
              "    }\n",
              "    20% {\n",
              "      border-color: transparent;\n",
              "      border-left-color: var(--fill-color);\n",
              "      border-top-color: var(--fill-color);\n",
              "    }\n",
              "    30% {\n",
              "      border-color: transparent;\n",
              "      border-left-color: var(--fill-color);\n",
              "      border-top-color: var(--fill-color);\n",
              "      border-right-color: var(--fill-color);\n",
              "    }\n",
              "    40% {\n",
              "      border-color: transparent;\n",
              "      border-right-color: var(--fill-color);\n",
              "      border-top-color: var(--fill-color);\n",
              "    }\n",
              "    60% {\n",
              "      border-color: transparent;\n",
              "      border-right-color: var(--fill-color);\n",
              "    }\n",
              "    80% {\n",
              "      border-color: transparent;\n",
              "      border-right-color: var(--fill-color);\n",
              "      border-bottom-color: var(--fill-color);\n",
              "    }\n",
              "    90% {\n",
              "      border-color: transparent;\n",
              "      border-bottom-color: var(--fill-color);\n",
              "    }\n",
              "  }\n",
              "</style>\n",
              "\n",
              "  <script>\n",
              "    async function quickchart(key) {\n",
              "      const quickchartButtonEl =\n",
              "        document.querySelector('#' + key + ' button');\n",
              "      quickchartButtonEl.disabled = true;  // To prevent multiple clicks.\n",
              "      quickchartButtonEl.classList.add('colab-df-spinner');\n",
              "      try {\n",
              "        const charts = await google.colab.kernel.invokeFunction(\n",
              "            'suggestCharts', [key], {});\n",
              "      } catch (error) {\n",
              "        console.error('Error during call to suggestCharts:', error);\n",
              "      }\n",
              "      quickchartButtonEl.classList.remove('colab-df-spinner');\n",
              "      quickchartButtonEl.classList.add('colab-df-quickchart-complete');\n",
              "    }\n",
              "    (() => {\n",
              "      let quickchartButtonEl =\n",
              "        document.querySelector('#df-4f95e91d-5fb3-443d-b566-462e18a9bb10 button');\n",
              "      quickchartButtonEl.style.display =\n",
              "        google.colab.kernel.accessAllowed ? 'block' : 'none';\n",
              "    })();\n",
              "  </script>\n",
              "</div>\n",
              "\n",
              "    </div>\n",
              "  </div>\n"
            ],
            "application/vnd.google.colaboratory.intrinsic+json": {
              "type": "dataframe",
              "variable_name": "df",
              "summary": "{\n  \"name\": \"df\",\n  \"rows\": 1303,\n  \"fields\": [\n    {\n      \"column\": \"laptop_ID\",\n      \"properties\": {\n        \"dtype\": \"number\",\n        \"std\": 381,\n        \"min\": 1,\n        \"max\": 1320,\n        \"num_unique_values\": 1303,\n        \"samples\": [\n          486,\n          1036,\n          303\n        ],\n        \"semantic_type\": \"\",\n        \"description\": \"\"\n      }\n    },\n    {\n      \"column\": \"Company\",\n      \"properties\": {\n        \"dtype\": \"category\",\n        \"num_unique_values\": 19,\n        \"samples\": [\n          \"Apple\",\n          \"Lenovo\",\n          \"Xiaomi\"\n        ],\n        \"semantic_type\": \"\",\n        \"description\": \"\"\n      }\n    },\n    {\n      \"column\": \"Product\",\n      \"properties\": {\n        \"dtype\": \"category\",\n        \"num_unique_values\": 618,\n        \"samples\": [\n          \"GL72M 7RDX\",\n          \"GS73VR 7RF\",\n          \"E402WA-GA007T (E2-6110/4GB/64GB/W10\"\n        ],\n        \"semantic_type\": \"\",\n        \"description\": \"\"\n      }\n    },\n    {\n      \"column\": \"TypeName\",\n      \"properties\": {\n        \"dtype\": \"category\",\n        \"num_unique_values\": 6,\n        \"samples\": [\n          \"Ultrabook\",\n          \"Notebook\",\n          \"Workstation\"\n        ],\n        \"semantic_type\": \"\",\n        \"description\": \"\"\n      }\n    },\n    {\n      \"column\": \"Inches\",\n      \"properties\": {\n        \"dtype\": \"number\",\n        \"std\": 1.4263040545691645,\n        \"min\": 10.1,\n        \"max\": 18.4,\n        \"num_unique_values\": 18,\n        \"samples\": [\n          13.3,\n          15.6,\n          13.5\n        ],\n        \"semantic_type\": \"\",\n        \"description\": \"\"\n      }\n    },\n    {\n      \"column\": \"ScreenResolution\",\n      \"properties\": {\n        \"dtype\": \"category\",\n        \"num_unique_values\": 40,\n        \"samples\": [\n          \"IPS Panel 4K Ultra HD 3840x2160\",\n          \"4K Ultra HD / Touchscreen 3840x2160\",\n          \"IPS Panel Full HD 2160x1440\"\n        ],\n        \"semantic_type\": \"\",\n        \"description\": \"\"\n      }\n    },\n    {\n      \"column\": \"Cpu\",\n      \"properties\": {\n        \"dtype\": \"category\",\n        \"num_unique_values\": 118,\n        \"samples\": [\n          \"Intel Celeron Dual Core 3855U 1.6GHz\",\n          \"AMD A6-Series 7310 2GHz\",\n          \"Intel Core i5 3.1GHz\"\n        ],\n        \"semantic_type\": \"\",\n        \"description\": \"\"\n      }\n    },\n    {\n      \"column\": \"Ram\",\n      \"properties\": {\n        \"dtype\": \"category\",\n        \"num_unique_values\": 9,\n        \"samples\": [\n          \"24GB\",\n          \"16GB\",\n          \"6GB\"\n        ],\n        \"semantic_type\": \"\",\n        \"description\": \"\"\n      }\n    },\n    {\n      \"column\": \"Memory\",\n      \"properties\": {\n        \"dtype\": \"category\",\n        \"num_unique_values\": 39,\n        \"samples\": [\n          \"240GB SSD\",\n          \"1.0TB HDD\",\n          \"500GB HDD\"\n        ],\n        \"semantic_type\": \"\",\n        \"description\": \"\"\n      }\n    },\n    {\n      \"column\": \"Gpu\",\n      \"properties\": {\n        \"dtype\": \"category\",\n        \"num_unique_values\": 110,\n        \"samples\": [\n          \"AMD Radeon R7\",\n          \"AMD Radeon Pro 555\",\n          \"Intel Iris Plus Graphics 650\"\n        ],\n        \"semantic_type\": \"\",\n        \"description\": \"\"\n      }\n    },\n    {\n      \"column\": \"OpSys\",\n      \"properties\": {\n        \"dtype\": \"category\",\n        \"num_unique_values\": 9,\n        \"samples\": [\n          \"Chrome OS\",\n          \"No OS\",\n          \"Android\"\n        ],\n        \"semantic_type\": \"\",\n        \"description\": \"\"\n      }\n    },\n    {\n      \"column\": \"Weight\",\n      \"properties\": {\n        \"dtype\": \"category\",\n        \"num_unique_values\": 179,\n        \"samples\": [\n          \"4.42kg\",\n          \"1.35kg\",\n          \"2.03kg\"\n        ],\n        \"semantic_type\": \"\",\n        \"description\": \"\"\n      }\n    },\n    {\n      \"column\": \"Price_euros\",\n      \"properties\": {\n        \"dtype\": \"number\",\n        \"std\": 699.0090425337413,\n        \"min\": 174.0,\n        \"max\": 6099.0,\n        \"num_unique_values\": 791,\n        \"samples\": [\n          1292.0,\n          389.0,\n          1798.0\n        ],\n        \"semantic_type\": \"\",\n        \"description\": \"\"\n      }\n    }\n  ]\n}"
            }
          },
          "metadata": {},
          "execution_count": 80
        }
      ]
    },
    {
      "cell_type": "code",
      "source": [
        "df.info()"
      ],
      "metadata": {
        "colab": {
          "base_uri": "https://localhost:8080/"
        },
        "id": "OeunIbE-2RmB",
        "outputId": "5aa05851-2b9a-46b4-a038-1b758d07870a"
      },
      "execution_count": 81,
      "outputs": [
        {
          "output_type": "stream",
          "name": "stdout",
          "text": [
            "<class 'pandas.core.frame.DataFrame'>\n",
            "RangeIndex: 1303 entries, 0 to 1302\n",
            "Data columns (total 13 columns):\n",
            " #   Column            Non-Null Count  Dtype  \n",
            "---  ------            --------------  -----  \n",
            " 0   laptop_ID         1303 non-null   int64  \n",
            " 1   Company           1303 non-null   object \n",
            " 2   Product           1303 non-null   object \n",
            " 3   TypeName          1303 non-null   object \n",
            " 4   Inches            1303 non-null   float64\n",
            " 5   ScreenResolution  1303 non-null   object \n",
            " 6   Cpu               1303 non-null   object \n",
            " 7   Ram               1303 non-null   object \n",
            " 8   Memory            1303 non-null   object \n",
            " 9   Gpu               1303 non-null   object \n",
            " 10  OpSys             1303 non-null   object \n",
            " 11  Weight            1303 non-null   object \n",
            " 12  Price_euros       1303 non-null   float64\n",
            "dtypes: float64(2), int64(1), object(10)\n",
            "memory usage: 132.5+ KB\n"
          ]
        }
      ]
    },
    {
      "cell_type": "code",
      "source": [
        "cleaner.data_info(df)"
      ],
      "metadata": {
        "colab": {
          "base_uri": "https://localhost:8080/",
          "height": 457
        },
        "id": "lyO-WI0WyPK7",
        "outputId": "ea736c87-dd7e-4262-e234-f70f8076b215"
      },
      "execution_count": 82,
      "outputs": [
        {
          "output_type": "execute_result",
          "data": {
            "text/plain": [
              "                 Col    dtype  n_uniques  n_nan  \\\n",
              "0          laptop_ID    int64       1303      0   \n",
              "1            Company   object         19      0   \n",
              "2            Product   object        618      0   \n",
              "3           TypeName   object          6      0   \n",
              "4             Inches  float64         18      0   \n",
              "5   ScreenResolution   object         40      0   \n",
              "6                Cpu   object        118      0   \n",
              "7                Ram   object          9      0   \n",
              "8             Memory   object         39      0   \n",
              "9                Gpu   object        110      0   \n",
              "10             OpSys   object          9      0   \n",
              "11            Weight   object        179      0   \n",
              "12       Price_euros  float64        791      0   \n",
              "\n",
              "                                           unique_val  duplicated  \n",
              "0    [1, 867, 885, 884, 883, 882, 881, 880, 879, 878]           0  \n",
              "1   [Dell, Lenovo, HP, Asus, Acer, MSI, Toshiba, A...           0  \n",
              "2   [XPS 13, Inspiron 3567, 250 G6, Legion Y520-15...           0  \n",
              "3   [Notebook, Gaming, Ultrabook, 2 in 1 Convertib...           0  \n",
              "4   [15.6, 14.0, 13.3, 17.3, 12.5, 11.6, 12.0, 13....           0  \n",
              "5   [Full HD 1920x1080, 1366x768, IPS Panel Full H...           0  \n",
              "6   [Intel Core i5 7200U 2.5GHz, Intel Core i7 770...           0  \n",
              "7   [8GB, 4GB, 16GB, 6GB, 12GB, 2GB, 32GB, 24GB, 6...           0  \n",
              "8   [256GB SSD, 1TB HDD, 500GB HDD, 512GB SSD, 128...           0  \n",
              "9   [Intel HD Graphics 620, Intel HD Graphics 520,...           0  \n",
              "10  [Windows 10, No OS, Linux, Windows 7, Chrome O...           0  \n",
              "11  [2.2kg, 2.1kg, 2.4kg, 2.3kg, 2.5kg, 2kg, 2.8kg...           0  \n",
              "12  [1499.0, 1099.0, 1799.0, 899.0, 1199.0, 1299.0...           0  "
            ],
            "text/html": [
              "\n",
              "  <div id=\"df-9d4523b6-2e2d-470f-a5d5-786235c2bfe5\" class=\"colab-df-container\">\n",
              "    <div>\n",
              "<style scoped>\n",
              "    .dataframe tbody tr th:only-of-type {\n",
              "        vertical-align: middle;\n",
              "    }\n",
              "\n",
              "    .dataframe tbody tr th {\n",
              "        vertical-align: top;\n",
              "    }\n",
              "\n",
              "    .dataframe thead th {\n",
              "        text-align: right;\n",
              "    }\n",
              "</style>\n",
              "<table border=\"1\" class=\"dataframe\">\n",
              "  <thead>\n",
              "    <tr style=\"text-align: right;\">\n",
              "      <th></th>\n",
              "      <th>Col</th>\n",
              "      <th>dtype</th>\n",
              "      <th>n_uniques</th>\n",
              "      <th>n_nan</th>\n",
              "      <th>unique_val</th>\n",
              "      <th>duplicated</th>\n",
              "    </tr>\n",
              "  </thead>\n",
              "  <tbody>\n",
              "    <tr>\n",
              "      <th>0</th>\n",
              "      <td>laptop_ID</td>\n",
              "      <td>int64</td>\n",
              "      <td>1303</td>\n",
              "      <td>0</td>\n",
              "      <td>[1, 867, 885, 884, 883, 882, 881, 880, 879, 878]</td>\n",
              "      <td>0</td>\n",
              "    </tr>\n",
              "    <tr>\n",
              "      <th>1</th>\n",
              "      <td>Company</td>\n",
              "      <td>object</td>\n",
              "      <td>19</td>\n",
              "      <td>0</td>\n",
              "      <td>[Dell, Lenovo, HP, Asus, Acer, MSI, Toshiba, A...</td>\n",
              "      <td>0</td>\n",
              "    </tr>\n",
              "    <tr>\n",
              "      <th>2</th>\n",
              "      <td>Product</td>\n",
              "      <td>object</td>\n",
              "      <td>618</td>\n",
              "      <td>0</td>\n",
              "      <td>[XPS 13, Inspiron 3567, 250 G6, Legion Y520-15...</td>\n",
              "      <td>0</td>\n",
              "    </tr>\n",
              "    <tr>\n",
              "      <th>3</th>\n",
              "      <td>TypeName</td>\n",
              "      <td>object</td>\n",
              "      <td>6</td>\n",
              "      <td>0</td>\n",
              "      <td>[Notebook, Gaming, Ultrabook, 2 in 1 Convertib...</td>\n",
              "      <td>0</td>\n",
              "    </tr>\n",
              "    <tr>\n",
              "      <th>4</th>\n",
              "      <td>Inches</td>\n",
              "      <td>float64</td>\n",
              "      <td>18</td>\n",
              "      <td>0</td>\n",
              "      <td>[15.6, 14.0, 13.3, 17.3, 12.5, 11.6, 12.0, 13....</td>\n",
              "      <td>0</td>\n",
              "    </tr>\n",
              "    <tr>\n",
              "      <th>5</th>\n",
              "      <td>ScreenResolution</td>\n",
              "      <td>object</td>\n",
              "      <td>40</td>\n",
              "      <td>0</td>\n",
              "      <td>[Full HD 1920x1080, 1366x768, IPS Panel Full H...</td>\n",
              "      <td>0</td>\n",
              "    </tr>\n",
              "    <tr>\n",
              "      <th>6</th>\n",
              "      <td>Cpu</td>\n",
              "      <td>object</td>\n",
              "      <td>118</td>\n",
              "      <td>0</td>\n",
              "      <td>[Intel Core i5 7200U 2.5GHz, Intel Core i7 770...</td>\n",
              "      <td>0</td>\n",
              "    </tr>\n",
              "    <tr>\n",
              "      <th>7</th>\n",
              "      <td>Ram</td>\n",
              "      <td>object</td>\n",
              "      <td>9</td>\n",
              "      <td>0</td>\n",
              "      <td>[8GB, 4GB, 16GB, 6GB, 12GB, 2GB, 32GB, 24GB, 6...</td>\n",
              "      <td>0</td>\n",
              "    </tr>\n",
              "    <tr>\n",
              "      <th>8</th>\n",
              "      <td>Memory</td>\n",
              "      <td>object</td>\n",
              "      <td>39</td>\n",
              "      <td>0</td>\n",
              "      <td>[256GB SSD, 1TB HDD, 500GB HDD, 512GB SSD, 128...</td>\n",
              "      <td>0</td>\n",
              "    </tr>\n",
              "    <tr>\n",
              "      <th>9</th>\n",
              "      <td>Gpu</td>\n",
              "      <td>object</td>\n",
              "      <td>110</td>\n",
              "      <td>0</td>\n",
              "      <td>[Intel HD Graphics 620, Intel HD Graphics 520,...</td>\n",
              "      <td>0</td>\n",
              "    </tr>\n",
              "    <tr>\n",
              "      <th>10</th>\n",
              "      <td>OpSys</td>\n",
              "      <td>object</td>\n",
              "      <td>9</td>\n",
              "      <td>0</td>\n",
              "      <td>[Windows 10, No OS, Linux, Windows 7, Chrome O...</td>\n",
              "      <td>0</td>\n",
              "    </tr>\n",
              "    <tr>\n",
              "      <th>11</th>\n",
              "      <td>Weight</td>\n",
              "      <td>object</td>\n",
              "      <td>179</td>\n",
              "      <td>0</td>\n",
              "      <td>[2.2kg, 2.1kg, 2.4kg, 2.3kg, 2.5kg, 2kg, 2.8kg...</td>\n",
              "      <td>0</td>\n",
              "    </tr>\n",
              "    <tr>\n",
              "      <th>12</th>\n",
              "      <td>Price_euros</td>\n",
              "      <td>float64</td>\n",
              "      <td>791</td>\n",
              "      <td>0</td>\n",
              "      <td>[1499.0, 1099.0, 1799.0, 899.0, 1199.0, 1299.0...</td>\n",
              "      <td>0</td>\n",
              "    </tr>\n",
              "  </tbody>\n",
              "</table>\n",
              "</div>\n",
              "    <div class=\"colab-df-buttons\">\n",
              "\n",
              "  <div class=\"colab-df-container\">\n",
              "    <button class=\"colab-df-convert\" onclick=\"convertToInteractive('df-9d4523b6-2e2d-470f-a5d5-786235c2bfe5')\"\n",
              "            title=\"Convert this dataframe to an interactive table.\"\n",
              "            style=\"display:none;\">\n",
              "\n",
              "  <svg xmlns=\"http://www.w3.org/2000/svg\" height=\"24px\" viewBox=\"0 -960 960 960\">\n",
              "    <path d=\"M120-120v-720h720v720H120Zm60-500h600v-160H180v160Zm220 220h160v-160H400v160Zm0 220h160v-160H400v160ZM180-400h160v-160H180v160Zm440 0h160v-160H620v160ZM180-180h160v-160H180v160Zm440 0h160v-160H620v160Z\"/>\n",
              "  </svg>\n",
              "    </button>\n",
              "\n",
              "  <style>\n",
              "    .colab-df-container {\n",
              "      display:flex;\n",
              "      gap: 12px;\n",
              "    }\n",
              "\n",
              "    .colab-df-convert {\n",
              "      background-color: #E8F0FE;\n",
              "      border: none;\n",
              "      border-radius: 50%;\n",
              "      cursor: pointer;\n",
              "      display: none;\n",
              "      fill: #1967D2;\n",
              "      height: 32px;\n",
              "      padding: 0 0 0 0;\n",
              "      width: 32px;\n",
              "    }\n",
              "\n",
              "    .colab-df-convert:hover {\n",
              "      background-color: #E2EBFA;\n",
              "      box-shadow: 0px 1px 2px rgba(60, 64, 67, 0.3), 0px 1px 3px 1px rgba(60, 64, 67, 0.15);\n",
              "      fill: #174EA6;\n",
              "    }\n",
              "\n",
              "    .colab-df-buttons div {\n",
              "      margin-bottom: 4px;\n",
              "    }\n",
              "\n",
              "    [theme=dark] .colab-df-convert {\n",
              "      background-color: #3B4455;\n",
              "      fill: #D2E3FC;\n",
              "    }\n",
              "\n",
              "    [theme=dark] .colab-df-convert:hover {\n",
              "      background-color: #434B5C;\n",
              "      box-shadow: 0px 1px 3px 1px rgba(0, 0, 0, 0.15);\n",
              "      filter: drop-shadow(0px 1px 2px rgba(0, 0, 0, 0.3));\n",
              "      fill: #FFFFFF;\n",
              "    }\n",
              "  </style>\n",
              "\n",
              "    <script>\n",
              "      const buttonEl =\n",
              "        document.querySelector('#df-9d4523b6-2e2d-470f-a5d5-786235c2bfe5 button.colab-df-convert');\n",
              "      buttonEl.style.display =\n",
              "        google.colab.kernel.accessAllowed ? 'block' : 'none';\n",
              "\n",
              "      async function convertToInteractive(key) {\n",
              "        const element = document.querySelector('#df-9d4523b6-2e2d-470f-a5d5-786235c2bfe5');\n",
              "        const dataTable =\n",
              "          await google.colab.kernel.invokeFunction('convertToInteractive',\n",
              "                                                    [key], {});\n",
              "        if (!dataTable) return;\n",
              "\n",
              "        const docLinkHtml = 'Like what you see? Visit the ' +\n",
              "          '<a target=\"_blank\" href=https://colab.research.google.com/notebooks/data_table.ipynb>data table notebook</a>'\n",
              "          + ' to learn more about interactive tables.';\n",
              "        element.innerHTML = '';\n",
              "        dataTable['output_type'] = 'display_data';\n",
              "        await google.colab.output.renderOutput(dataTable, element);\n",
              "        const docLink = document.createElement('div');\n",
              "        docLink.innerHTML = docLinkHtml;\n",
              "        element.appendChild(docLink);\n",
              "      }\n",
              "    </script>\n",
              "  </div>\n",
              "\n",
              "\n",
              "<div id=\"df-e693d1ad-b735-4105-a0c6-8d87399dd564\">\n",
              "  <button class=\"colab-df-quickchart\" onclick=\"quickchart('df-e693d1ad-b735-4105-a0c6-8d87399dd564')\"\n",
              "            title=\"Suggest charts\"\n",
              "            style=\"display:none;\">\n",
              "\n",
              "<svg xmlns=\"http://www.w3.org/2000/svg\" height=\"24px\"viewBox=\"0 0 24 24\"\n",
              "     width=\"24px\">\n",
              "    <g>\n",
              "        <path d=\"M19 3H5c-1.1 0-2 .9-2 2v14c0 1.1.9 2 2 2h14c1.1 0 2-.9 2-2V5c0-1.1-.9-2-2-2zM9 17H7v-7h2v7zm4 0h-2V7h2v10zm4 0h-2v-4h2v4z\"/>\n",
              "    </g>\n",
              "</svg>\n",
              "  </button>\n",
              "\n",
              "<style>\n",
              "  .colab-df-quickchart {\n",
              "      --bg-color: #E8F0FE;\n",
              "      --fill-color: #1967D2;\n",
              "      --hover-bg-color: #E2EBFA;\n",
              "      --hover-fill-color: #174EA6;\n",
              "      --disabled-fill-color: #AAA;\n",
              "      --disabled-bg-color: #DDD;\n",
              "  }\n",
              "\n",
              "  [theme=dark] .colab-df-quickchart {\n",
              "      --bg-color: #3B4455;\n",
              "      --fill-color: #D2E3FC;\n",
              "      --hover-bg-color: #434B5C;\n",
              "      --hover-fill-color: #FFFFFF;\n",
              "      --disabled-bg-color: #3B4455;\n",
              "      --disabled-fill-color: #666;\n",
              "  }\n",
              "\n",
              "  .colab-df-quickchart {\n",
              "    background-color: var(--bg-color);\n",
              "    border: none;\n",
              "    border-radius: 50%;\n",
              "    cursor: pointer;\n",
              "    display: none;\n",
              "    fill: var(--fill-color);\n",
              "    height: 32px;\n",
              "    padding: 0;\n",
              "    width: 32px;\n",
              "  }\n",
              "\n",
              "  .colab-df-quickchart:hover {\n",
              "    background-color: var(--hover-bg-color);\n",
              "    box-shadow: 0 1px 2px rgba(60, 64, 67, 0.3), 0 1px 3px 1px rgba(60, 64, 67, 0.15);\n",
              "    fill: var(--button-hover-fill-color);\n",
              "  }\n",
              "\n",
              "  .colab-df-quickchart-complete:disabled,\n",
              "  .colab-df-quickchart-complete:disabled:hover {\n",
              "    background-color: var(--disabled-bg-color);\n",
              "    fill: var(--disabled-fill-color);\n",
              "    box-shadow: none;\n",
              "  }\n",
              "\n",
              "  .colab-df-spinner {\n",
              "    border: 2px solid var(--fill-color);\n",
              "    border-color: transparent;\n",
              "    border-bottom-color: var(--fill-color);\n",
              "    animation:\n",
              "      spin 1s steps(1) infinite;\n",
              "  }\n",
              "\n",
              "  @keyframes spin {\n",
              "    0% {\n",
              "      border-color: transparent;\n",
              "      border-bottom-color: var(--fill-color);\n",
              "      border-left-color: var(--fill-color);\n",
              "    }\n",
              "    20% {\n",
              "      border-color: transparent;\n",
              "      border-left-color: var(--fill-color);\n",
              "      border-top-color: var(--fill-color);\n",
              "    }\n",
              "    30% {\n",
              "      border-color: transparent;\n",
              "      border-left-color: var(--fill-color);\n",
              "      border-top-color: var(--fill-color);\n",
              "      border-right-color: var(--fill-color);\n",
              "    }\n",
              "    40% {\n",
              "      border-color: transparent;\n",
              "      border-right-color: var(--fill-color);\n",
              "      border-top-color: var(--fill-color);\n",
              "    }\n",
              "    60% {\n",
              "      border-color: transparent;\n",
              "      border-right-color: var(--fill-color);\n",
              "    }\n",
              "    80% {\n",
              "      border-color: transparent;\n",
              "      border-right-color: var(--fill-color);\n",
              "      border-bottom-color: var(--fill-color);\n",
              "    }\n",
              "    90% {\n",
              "      border-color: transparent;\n",
              "      border-bottom-color: var(--fill-color);\n",
              "    }\n",
              "  }\n",
              "</style>\n",
              "\n",
              "  <script>\n",
              "    async function quickchart(key) {\n",
              "      const quickchartButtonEl =\n",
              "        document.querySelector('#' + key + ' button');\n",
              "      quickchartButtonEl.disabled = true;  // To prevent multiple clicks.\n",
              "      quickchartButtonEl.classList.add('colab-df-spinner');\n",
              "      try {\n",
              "        const charts = await google.colab.kernel.invokeFunction(\n",
              "            'suggestCharts', [key], {});\n",
              "      } catch (error) {\n",
              "        console.error('Error during call to suggestCharts:', error);\n",
              "      }\n",
              "      quickchartButtonEl.classList.remove('colab-df-spinner');\n",
              "      quickchartButtonEl.classList.add('colab-df-quickchart-complete');\n",
              "    }\n",
              "    (() => {\n",
              "      let quickchartButtonEl =\n",
              "        document.querySelector('#df-e693d1ad-b735-4105-a0c6-8d87399dd564 button');\n",
              "      quickchartButtonEl.style.display =\n",
              "        google.colab.kernel.accessAllowed ? 'block' : 'none';\n",
              "    })();\n",
              "  </script>\n",
              "</div>\n",
              "\n",
              "    </div>\n",
              "  </div>\n"
            ],
            "application/vnd.google.colaboratory.intrinsic+json": {
              "type": "dataframe",
              "summary": "{\n  \"name\": \"cleaner\",\n  \"rows\": 13,\n  \"fields\": [\n    {\n      \"column\": \"Col\",\n      \"properties\": {\n        \"dtype\": \"string\",\n        \"num_unique_values\": 13,\n        \"samples\": [\n          \"Weight\",\n          \"Gpu\",\n          \"laptop_ID\"\n        ],\n        \"semantic_type\": \"\",\n        \"description\": \"\"\n      }\n    },\n    {\n      \"column\": \"dtype\",\n      \"properties\": {\n        \"dtype\": \"category\",\n        \"num_unique_values\": 3,\n        \"samples\": [\n          \"int64\",\n          \"object\",\n          \"float64\"\n        ],\n        \"semantic_type\": \"\",\n        \"description\": \"\"\n      }\n    },\n    {\n      \"column\": \"n_uniques\",\n      \"properties\": {\n        \"dtype\": \"number\",\n        \"std\": 403,\n        \"min\": 6,\n        \"max\": 1303,\n        \"num_unique_values\": 12,\n        \"samples\": [\n          179,\n          110,\n          1303\n        ],\n        \"semantic_type\": \"\",\n        \"description\": \"\"\n      }\n    },\n    {\n      \"column\": \"n_nan\",\n      \"properties\": {\n        \"dtype\": \"number\",\n        \"std\": 0,\n        \"min\": 0,\n        \"max\": 0,\n        \"num_unique_values\": 1,\n        \"samples\": [\n          0\n        ],\n        \"semantic_type\": \"\",\n        \"description\": \"\"\n      }\n    },\n    {\n      \"column\": \"unique_val\",\n      \"properties\": {\n        \"dtype\": \"object\",\n        \"semantic_type\": \"\",\n        \"description\": \"\"\n      }\n    },\n    {\n      \"column\": \"duplicated\",\n      \"properties\": {\n        \"dtype\": \"number\",\n        \"std\": 0,\n        \"min\": 0,\n        \"max\": 0,\n        \"num_unique_values\": 1,\n        \"samples\": [\n          0\n        ],\n        \"semantic_type\": \"\",\n        \"description\": \"\"\n      }\n    }\n  ]\n}"
            }
          },
          "metadata": {},
          "execution_count": 82
        }
      ]
    },
    {
      "cell_type": "code",
      "source": [
        "cleaner.categorical_plot(df,df.columns,10)"
      ],
      "metadata": {
        "colab": {
          "base_uri": "https://localhost:8080/",
          "height": 454
        },
        "id": "PcpTPql10c7_",
        "outputId": "666e5b0c-85bd-4d2b-f37e-5f7be05eb856"
      },
      "execution_count": 83,
      "outputs": [
        {
          "output_type": "stream",
          "name": "stdout",
          "text": [
            "Column 'laptop_ID' is not categorical.\n",
            "Column 'Company' is not categorical.\n",
            "Column 'Product' is not categorical.\n",
            "Column 'Inches' is not categorical.\n",
            "Column 'ScreenResolution' is not categorical.\n",
            "Column 'Cpu' is not categorical.\n",
            "Column 'Memory' is not categorical.\n",
            "Column 'Gpu' is not categorical.\n",
            "Column 'Weight' is not categorical.\n",
            "Column 'Price_euros' is not categorical.\n"
          ]
        },
        {
          "output_type": "display_data",
          "data": {
            "text/plain": [
              "<Figure size 2000x2500 with 3 Axes>"
            ],
            "image/png": "[encoded data removed]"
          },
          "metadata": {}
        }
      ]
    },
    {
      "cell_type": "code",
      "source": [
        "cleaner.continuous_plot(df,df.columns,10)"
      ],
      "metadata": {
        "colab": {
          "base_uri": "https://localhost:8080/",
          "height": 602
        },
        "id": "8JMleeK6zaBe",
        "outputId": "14c30f2f-21ad-4d08-db1b-4801c39590ec"
      },
      "execution_count": 84,
      "outputs": [
        {
          "output_type": "stream",
          "name": "stdout",
          "text": [
            "Column 'laptop_ID' is not countinuous.\n",
            "Column 'Company' is not countinuous.\n",
            "Column 'Product' is not countinuous.\n",
            "Column 'TypeName' is not countinuous.\n",
            "Column 'ScreenResolution' is not countinuous.\n",
            "Column 'Cpu' is not countinuous.\n",
            "Column 'Ram' is not countinuous.\n",
            "Column 'Memory' is not countinuous.\n",
            "Column 'Gpu' is not countinuous.\n",
            "Column 'OpSys' is not countinuous.\n",
            "Column 'Weight' is not countinuous.\n"
          ]
        },
        {
          "output_type": "display_data",
          "data": {
            "text/plain": [
              "<Figure size 2000x2500 with 2 Axes>"
            ],
            "image/png": "[encoded data removed]"
          },
          "metadata": {}
        }
      ]
    },
    {
      "cell_type": "markdown",
      "source": [
        "Price_euros right skewed"
      ],
      "metadata": {
        "id": "J-_Y3GWx04Zu"
      }
    },
    {
      "cell_type": "code",
      "source": [
        "df.drop(columns=['laptop_ID'], inplace=True)"
      ],
      "metadata": {
        "id": "sxkHh5PJ0_iH"
      },
      "execution_count": 85,
      "outputs": []
    },
    {
      "cell_type": "code",
      "source": [
        "df.duplicated().sum()"
      ],
      "metadata": {
        "colab": {
          "base_uri": "https://localhost:8080/"
        },
        "id": "cLwHtdVZ1Ieq",
        "outputId": "4114fb2a-3bb0-4af8-9601-9ee2e05c54e8"
      },
      "execution_count": 86,
      "outputs": [
        {
          "output_type": "execute_result",
          "data": {
            "text/plain": [
              "28"
            ]
          },
          "metadata": {},
          "execution_count": 86
        }
      ]
    },
    {
      "cell_type": "code",
      "source": [
        "df.drop_duplicates(inplace=True)"
      ],
      "metadata": {
        "id": "K842GJEw1Kig"
      },
      "execution_count": 87,
      "outputs": []
    },
    {
      "cell_type": "code",
      "source": [
        "cleaner.boxplot_numeric_columns(df)"
      ],
      "metadata": {
        "colab": {
          "base_uri": "https://localhost:8080/",
          "height": 254
        },
        "id": "bFmDqOy51PTe",
        "outputId": "e53211d0-a295-4a9f-bce3-19ae0e27c143"
      },
      "execution_count": 88,
      "outputs": [
        {
          "output_type": "display_data",
          "data": {
            "text/plain": [
              "<Figure size 2500x500 with 2 Axes>"
            ],
            "image/png": "[encoded data removed]"
          },
          "metadata": {}
        }
      ]
    },
    {
      "cell_type": "code",
      "source": [
        "cleaner.remove_outliers_iqr_countinuous(df,['Price_euros','Inches'])"
      ],
      "metadata": {
        "colab": {
          "base_uri": "https://localhost:8080/",
          "height": 999
        },
        "id": "eVysMEyR1aMq",
        "outputId": "2971a1d0-4240-4733-fec1-7c791c6066b3"
      },
      "execution_count": 89,
      "outputs": [
        {
          "output_type": "execute_result",
          "data": {
            "text/plain": [
              "     Company                              Product            TypeName  Inches  \\\n",
              "0      Apple                          MacBook Pro           Ultrabook    13.3   \n",
              "1      Apple                          Macbook Air           Ultrabook    13.3   \n",
              "2         HP                               250 G6            Notebook    15.6   \n",
              "3      Apple                          MacBook Pro           Ultrabook    15.4   \n",
              "4      Apple                          MacBook Pro           Ultrabook    13.3   \n",
              "...      ...                                  ...                 ...     ...   \n",
              "1205  Lenovo                       Yoga 500-14ISK  2 in 1 Convertible    14.0   \n",
              "1206  Lenovo                       Yoga 900-13ISK  2 in 1 Convertible    13.3   \n",
              "1207  Lenovo                   IdeaPad 100S-14IBR            Notebook    14.0   \n",
              "1208      HP  15-AC110nv (i7-6500U/6GB/1TB/Radeon            Notebook    15.6   \n",
              "1209    Asus  X553SA-XX031T (N3050/4GB/500GB/W10)            Notebook    15.6   \n",
              "\n",
              "                                ScreenResolution  \\\n",
              "0             IPS Panel Retina Display 2560x1600   \n",
              "1                                       1440x900   \n",
              "2                              Full HD 1920x1080   \n",
              "3             IPS Panel Retina Display 2880x1800   \n",
              "4             IPS Panel Retina Display 2560x1600   \n",
              "...                                          ...   \n",
              "1205   IPS Panel Full HD / Touchscreen 1920x1080   \n",
              "1206  IPS Panel Quad HD+ / Touchscreen 3200x1800   \n",
              "1207                                    1366x768   \n",
              "1208                                    1366x768   \n",
              "1209                                    1366x768   \n",
              "\n",
              "                                       Cpu   Ram               Memory  \\\n",
              "0                     Intel Core i5 2.3GHz   8GB            128GB SSD   \n",
              "1                     Intel Core i5 1.8GHz   8GB  128GB Flash Storage   \n",
              "2               Intel Core i5 7200U 2.5GHz   8GB            256GB SSD   \n",
              "3                     Intel Core i7 2.7GHz  16GB            512GB SSD   \n",
              "4                     Intel Core i5 3.1GHz   8GB            256GB SSD   \n",
              "...                                    ...   ...                  ...   \n",
              "1205            Intel Core i7 6500U 2.5GHz   4GB            128GB SSD   \n",
              "1206            Intel Core i7 6500U 2.5GHz  16GB            512GB SSD   \n",
              "1207  Intel Celeron Dual Core N3050 1.6GHz   2GB   64GB Flash Storage   \n",
              "1208            Intel Core i7 6500U 2.5GHz   6GB              1TB HDD   \n",
              "1209  Intel Celeron Dual Core N3050 1.6GHz   4GB            500GB HDD   \n",
              "\n",
              "                               Gpu       OpSys  Weight  Price_euros  \n",
              "0     Intel Iris Plus Graphics 640       macOS  1.37kg      1339.69  \n",
              "1           Intel HD Graphics 6000       macOS  1.34kg       898.94  \n",
              "2            Intel HD Graphics 620       No OS  1.86kg       575.00  \n",
              "3               AMD Radeon Pro 455       macOS  1.83kg      2537.45  \n",
              "4     Intel Iris Plus Graphics 650       macOS  1.37kg      1803.60  \n",
              "...                            ...         ...     ...          ...  \n",
              "1205         Intel HD Graphics 520  Windows 10   1.8kg       638.00  \n",
              "1206         Intel HD Graphics 520  Windows 10   1.3kg      1499.00  \n",
              "1207             Intel HD Graphics  Windows 10   1.5kg       229.00  \n",
              "1208            AMD Radeon R5 M330  Windows 10  2.19kg       764.00  \n",
              "1209             Intel HD Graphics  Windows 10   2.2kg       369.00  \n",
              "\n",
              "[1210 rows x 12 columns]"
            ],
            "text/html": [
              "\n",
              "  <div id=\"df-bde85f25-2370-4b8f-8834-0abac612440f\" class=\"colab-df-container\">\n",
              "    <div>\n",
              "<style scoped>\n",
              "    .dataframe tbody tr th:only-of-type {\n",
              "        vertical-align: middle;\n",
              "    }\n",
              "\n",
              "    .dataframe tbody tr th {\n",
              "        vertical-align: top;\n",
              "    }\n",
              "\n",
              "    .dataframe thead th {\n",
              "        text-align: right;\n",
              "    }\n",
              "</style>\n",
              "<table border=\"1\" class=\"dataframe\">\n",
              "  <thead>\n",
              "    <tr style=\"text-align: right;\">\n",
              "      <th></th>\n",
              "      <th>Company</th>\n",
              "      <th>Product</th>\n",
              "      <th>TypeName</th>\n",
              "      <th>Inches</th>\n",
              "      <th>ScreenResolution</th>\n",
              "      <th>Cpu</th>\n",
              "      <th>Ram</th>\n",
              "      <th>Memory</th>\n",
              "      <th>Gpu</th>\n",
              "      <th>OpSys</th>\n",
              "      <th>Weight</th>\n",
              "      <th>Price_euros</th>\n",
              "    </tr>\n",
              "  </thead>\n",
              "  <tbody>\n",
              "    <tr>\n",
              "      <th>0</th>\n",
              "      <td>Apple</td>\n",
              "      <td>MacBook Pro</td>\n",
              "      <td>Ultrabook</td>\n",
              "      <td>13.3</td>\n",
              "      <td>IPS Panel Retina Display 2560x1600</td>\n",
              "      <td>Intel Core i5 2.3GHz</td>\n",
              "      <td>8GB</td>\n",
              "      <td>128GB SSD</td>\n",
              "      <td>Intel Iris Plus Graphics 640</td>\n",
              "      <td>macOS</td>\n",
              "      <td>1.37kg</td>\n",
              "      <td>1339.69</td>\n",
              "    </tr>\n",
              "    <tr>\n",
              "      <th>1</th>\n",
              "      <td>Apple</td>\n",
              "      <td>Macbook Air</td>\n",
              "      <td>Ultrabook</td>\n",
              "      <td>13.3</td>\n",
              "      <td>1440x900</td>\n",
              "      <td>Intel Core i5 1.8GHz</td>\n",
              "      <td>8GB</td>\n",
              "      <td>128GB Flash Storage</td>\n",
              "      <td>Intel HD Graphics 6000</td>\n",
              "      <td>macOS</td>\n",
              "      <td>1.34kg</td>\n",
              "      <td>898.94</td>\n",
              "    </tr>\n",
              "    <tr>\n",
              "      <th>2</th>\n",
              "      <td>HP</td>\n",
              "      <td>250 G6</td>\n",
              "      <td>Notebook</td>\n",
              "      <td>15.6</td>\n",
              "      <td>Full HD 1920x1080</td>\n",
              "      <td>Intel Core i5 7200U 2.5GHz</td>\n",
              "      <td>8GB</td>\n",
              "      <td>256GB SSD</td>\n",
              "      <td>Intel HD Graphics 620</td>\n",
              "      <td>No OS</td>\n",
              "      <td>1.86kg</td>\n",
              "      <td>575.00</td>\n",
              "    </tr>\n",
              "    <tr>\n",
              "      <th>3</th>\n",
              "      <td>Apple</td>\n",
              "      <td>MacBook Pro</td>\n",
              "      <td>Ultrabook</td>\n",
              "      <td>15.4</td>\n",
              "      <td>IPS Panel Retina Display 2880x1800</td>\n",
              "      <td>Intel Core i7 2.7GHz</td>\n",
              "      <td>16GB</td>\n",
              "      <td>512GB SSD</td>\n",
              "      <td>AMD Radeon Pro 455</td>\n",
              "      <td>macOS</td>\n",
              "      <td>1.83kg</td>\n",
              "      <td>2537.45</td>\n",
              "    </tr>\n",
              "    <tr>\n",
              "      <th>4</th>\n",
              "      <td>Apple</td>\n",
              "      <td>MacBook Pro</td>\n",
              "      <td>Ultrabook</td>\n",
              "      <td>13.3</td>\n",
              "      <td>IPS Panel Retina Display 2560x1600</td>\n",
              "      <td>Intel Core i5 3.1GHz</td>\n",
              "      <td>8GB</td>\n",
              "      <td>256GB SSD</td>\n",
              "      <td>Intel Iris Plus Graphics 650</td>\n",
              "      <td>macOS</td>\n",
              "      <td>1.37kg</td>\n",
              "      <td>1803.60</td>\n",
              "    </tr>\n",
              "    <tr>\n",
              "      <th>...</th>\n",
              "      <td>...</td>\n",
              "      <td>...</td>\n",
              "      <td>...</td>\n",
              "      <td>...</td>\n",
              "      <td>...</td>\n",
              "      <td>...</td>\n",
              "      <td>...</td>\n",
              "      <td>...</td>\n",
              "      <td>...</td>\n",
              "      <td>...</td>\n",
              "      <td>...</td>\n",
              "      <td>...</td>\n",
              "    </tr>\n",
              "    <tr>\n",
              "      <th>1205</th>\n",
              "      <td>Lenovo</td>\n",
              "      <td>Yoga 500-14ISK</td>\n",
              "      <td>2 in 1 Convertible</td>\n",
              "      <td>14.0</td>\n",
              "      <td>IPS Panel Full HD / Touchscreen 1920x1080</td>\n",
              "      <td>Intel Core i7 6500U 2.5GHz</td>\n",
              "      <td>4GB</td>\n",
              "      <td>128GB SSD</td>\n",
              "      <td>Intel HD Graphics 520</td>\n",
              "      <td>Windows 10</td>\n",
              "      <td>1.8kg</td>\n",
              "      <td>638.00</td>\n",
              "    </tr>\n",
              "    <tr>\n",
              "      <th>1206</th>\n",
              "      <td>Lenovo</td>\n",
              "      <td>Yoga 900-13ISK</td>\n",
              "      <td>2 in 1 Convertible</td>\n",
              "      <td>13.3</td>\n",
              "      <td>IPS Panel Quad HD+ / Touchscreen 3200x1800</td>\n",
              "      <td>Intel Core i7 6500U 2.5GHz</td>\n",
              "      <td>16GB</td>\n",
              "      <td>512GB SSD</td>\n",
              "      <td>Intel HD Graphics 520</td>\n",
              "      <td>Windows 10</td>\n",
              "      <td>1.3kg</td>\n",
              "      <td>1499.00</td>\n",
              "    </tr>\n",
              "    <tr>\n",
              "      <th>1207</th>\n",
              "      <td>Lenovo</td>\n",
              "      <td>IdeaPad 100S-14IBR</td>\n",
              "      <td>Notebook</td>\n",
              "      <td>14.0</td>\n",
              "      <td>1366x768</td>\n",
              "      <td>Intel Celeron Dual Core N3050 1.6GHz</td>\n",
              "      <td>2GB</td>\n",
              "      <td>64GB Flash Storage</td>\n",
              "      <td>Intel HD Graphics</td>\n",
              "      <td>Windows 10</td>\n",
              "      <td>1.5kg</td>\n",
              "      <td>229.00</td>\n",
              "    </tr>\n",
              "    <tr>\n",
              "      <th>1208</th>\n",
              "      <td>HP</td>\n",
              "      <td>15-AC110nv (i7-6500U/6GB/1TB/Radeon</td>\n",
              "      <td>Notebook</td>\n",
              "      <td>15.6</td>\n",
              "      <td>1366x768</td>\n",
              "      <td>Intel Core i7 6500U 2.5GHz</td>\n",
              "      <td>6GB</td>\n",
              "      <td>1TB HDD</td>\n",
              "      <td>AMD Radeon R5 M330</td>\n",
              "      <td>Windows 10</td>\n",
              "      <td>2.19kg</td>\n",
              "      <td>764.00</td>\n",
              "    </tr>\n",
              "    <tr>\n",
              "      <th>1209</th>\n",
              "      <td>Asus</td>\n",
              "      <td>X553SA-XX031T (N3050/4GB/500GB/W10)</td>\n",
              "      <td>Notebook</td>\n",
              "      <td>15.6</td>\n",
              "      <td>1366x768</td>\n",
              "      <td>Intel Celeron Dual Core N3050 1.6GHz</td>\n",
              "      <td>4GB</td>\n",
              "      <td>500GB HDD</td>\n",
              "      <td>Intel HD Graphics</td>\n",
              "      <td>Windows 10</td>\n",
              "      <td>2.2kg</td>\n",
              "      <td>369.00</td>\n",
              "    </tr>\n",
              "  </tbody>\n",
              "</table>\n",
              "<p>1210 rows × 12 columns</p>\n",
              "</div>\n",
              "    <div class=\"colab-df-buttons\">\n",
              "\n",
              "  <div class=\"colab-df-container\">\n",
              "    <button class=\"colab-df-convert\" onclick=\"convertToInteractive('df-bde85f25-2370-4b8f-8834-0abac612440f')\"\n",
              "            title=\"Convert this dataframe to an interactive table.\"\n",
              "            style=\"display:none;\">\n",
              "\n",
              "  <svg xmlns=\"http://www.w3.org/2000/svg\" height=\"24px\" viewBox=\"0 -960 960 960\">\n",
              "    <path d=\"M120-120v-720h720v720H120Zm60-500h600v-160H180v160Zm220 220h160v-160H400v160Zm0 220h160v-160H400v160ZM180-400h160v-160H180v160Zm440 0h160v-160H620v160ZM180-180h160v-160H180v160Zm440 0h160v-160H620v160Z\"/>\n",
              "  </svg>\n",
              "    </button>\n",
              "\n",
              "  <style>\n",
              "    .colab-df-container {\n",
              "      display:flex;\n",
              "      gap: 12px;\n",
              "    }\n",
              "\n",
              "    .colab-df-convert {\n",
              "      background-color: #E8F0FE;\n",
              "      border: none;\n",
              "      border-radius: 50%;\n",
              "      cursor: pointer;\n",
              "      display: none;\n",
              "      fill: #1967D2;\n",
              "      height: 32px;\n",
              "      padding: 0 0 0 0;\n",
              "      width: 32px;\n",
              "    }\n",
              "\n",
              "    .colab-df-convert:hover {\n",
              "      background-color: #E2EBFA;\n",
              "      box-shadow: 0px 1px 2px rgba(60, 64, 67, 0.3), 0px 1px 3px 1px rgba(60, 64, 67, 0.15);\n",
              "      fill: #174EA6;\n",
              "    }\n",
              "\n",
              "    .colab-df-buttons div {\n",
              "      margin-bottom: 4px;\n",
              "    }\n",
              "\n",
              "    [theme=dark] .colab-df-convert {\n",
              "      background-color: #3B4455;\n",
              "      fill: #D2E3FC;\n",
              "    }\n",
              "\n",
              "    [theme=dark] .colab-df-convert:hover {\n",
              "      background-color: #434B5C;\n",
              "      box-shadow: 0px 1px 3px 1px rgba(0, 0, 0, 0.15);\n",
              "      filter: drop-shadow(0px 1px 2px rgba(0, 0, 0, 0.3));\n",
              "      fill: #FFFFFF;\n",
              "    }\n",
              "  </style>\n",
              "\n",
              "    <script>\n",
              "      const buttonEl =\n",
              "        document.querySelector('#df-bde85f25-2370-4b8f-8834-0abac612440f button.colab-df-convert');\n",
              "      buttonEl.style.display =\n",
              "        google.colab.kernel.accessAllowed ? 'block' : 'none';\n",
              "\n",
              "      async function convertToInteractive(key) {\n",
              "        const element = document.querySelector('#df-bde85f25-2370-4b8f-8834-0abac612440f');\n",
              "        const dataTable =\n",
              "          await google.colab.kernel.invokeFunction('convertToInteractive',\n",
              "                                                    [key], {});\n",
              "        if (!dataTable) return;\n",
              "\n",
              "        const docLinkHtml = 'Like what you see? Visit the ' +\n",
              "          '<a target=\"_blank\" href=https://colab.research.google.com/notebooks/data_table.ipynb>data table notebook</a>'\n",
              "          + ' to learn more about interactive tables.';\n",
              "        element.innerHTML = '';\n",
              "        dataTable['output_type'] = 'display_data';\n",
              "        await google.colab.output.renderOutput(dataTable, element);\n",
              "        const docLink = document.createElement('div');\n",
              "        docLink.innerHTML = docLinkHtml;\n",
              "        element.appendChild(docLink);\n",
              "      }\n",
              "    </script>\n",
              "  </div>\n",
              "\n",
              "\n",
              "<div id=\"df-54829297-a841-4e3b-a615-9fe2934c6986\">\n",
              "  <button class=\"colab-df-quickchart\" onclick=\"quickchart('df-54829297-a841-4e3b-a615-9fe2934c6986')\"\n",
              "            title=\"Suggest charts\"\n",
              "            style=\"display:none;\">\n",
              "\n",
              "<svg xmlns=\"http://www.w3.org/2000/svg\" height=\"24px\"viewBox=\"0 0 24 24\"\n",
              "     width=\"24px\">\n",
              "    <g>\n",
              "        <path d=\"M19 3H5c-1.1 0-2 .9-2 2v14c0 1.1.9 2 2 2h14c1.1 0 2-.9 2-2V5c0-1.1-.9-2-2-2zM9 17H7v-7h2v7zm4 0h-2V7h2v10zm4 0h-2v-4h2v4z\"/>\n",
              "    </g>\n",
              "</svg>\n",
              "  </button>\n",
              "\n",
              "<style>\n",
              "  .colab-df-quickchart {\n",
              "      --bg-color: #E8F0FE;\n",
              "      --fill-color: #1967D2;\n",
              "      --hover-bg-color: #E2EBFA;\n",
              "      --hover-fill-color: #174EA6;\n",
              "      --disabled-fill-color: #AAA;\n",
              "      --disabled-bg-color: #DDD;\n",
              "  }\n",
              "\n",
              "  [theme=dark] .colab-df-quickchart {\n",
              "      --bg-color: #3B4455;\n",
              "      --fill-color: #D2E3FC;\n",
              "      --hover-bg-color: #434B5C;\n",
              "      --hover-fill-color: #FFFFFF;\n",
              "      --disabled-bg-color: #3B4455;\n",
              "      --disabled-fill-color: #666;\n",
              "  }\n",
              "\n",
              "  .colab-df-quickchart {\n",
              "    background-color: var(--bg-color);\n",
              "    border: none;\n",
              "    border-radius: 50%;\n",
              "    cursor: pointer;\n",
              "    display: none;\n",
              "    fill: var(--fill-color);\n",
              "    height: 32px;\n",
              "    padding: 0;\n",
              "    width: 32px;\n",
              "  }\n",
              "\n",
              "  .colab-df-quickchart:hover {\n",
              "    background-color: var(--hover-bg-color);\n",
              "    box-shadow: 0 1px 2px rgba(60, 64, 67, 0.3), 0 1px 3px 1px rgba(60, 64, 67, 0.15);\n",
              "    fill: var(--button-hover-fill-color);\n",
              "  }\n",
              "\n",
              "  .colab-df-quickchart-complete:disabled,\n",
              "  .colab-df-quickchart-complete:disabled:hover {\n",
              "    background-color: var(--disabled-bg-color);\n",
              "    fill: var(--disabled-fill-color);\n",
              "    box-shadow: none;\n",
              "  }\n",
              "\n",
              "  .colab-df-spinner {\n",
              "    border: 2px solid var(--fill-color);\n",
              "    border-color: transparent;\n",
              "    border-bottom-color: var(--fill-color);\n",
              "    animation:\n",
              "      spin 1s steps(1) infinite;\n",
              "  }\n",
              "\n",
              "  @keyframes spin {\n",
              "    0% {\n",
              "      border-color: transparent;\n",
              "      border-bottom-color: var(--fill-color);\n",
              "      border-left-color: var(--fill-color);\n",
              "    }\n",
              "    20% {\n",
              "      border-color: transparent;\n",
              "      border-left-color: var(--fill-color);\n",
              "      border-top-color: var(--fill-color);\n",
              "    }\n",
              "    30% {\n",
              "      border-color: transparent;\n",
              "      border-left-color: var(--fill-color);\n",
              "      border-top-color: var(--fill-color);\n",
              "      border-right-color: var(--fill-color);\n",
              "    }\n",
              "    40% {\n",
              "      border-color: transparent;\n",
              "      border-right-color: var(--fill-color);\n",
              "      border-top-color: var(--fill-color);\n",
              "    }\n",
              "    60% {\n",
              "      border-color: transparent;\n",
              "      border-right-color: var(--fill-color);\n",
              "    }\n",
              "    80% {\n",
              "      border-color: transparent;\n",
              "      border-right-color: var(--fill-color);\n",
              "      border-bottom-color: var(--fill-color);\n",
              "    }\n",
              "    90% {\n",
              "      border-color: transparent;\n",
              "      border-bottom-color: var(--fill-color);\n",
              "    }\n",
              "  }\n",
              "</style>\n",
              "\n",
              "  <script>\n",
              "    async function quickchart(key) {\n",
              "      const quickchartButtonEl =\n",
              "        document.querySelector('#' + key + ' button');\n",
              "      quickchartButtonEl.disabled = true;  // To prevent multiple clicks.\n",
              "      quickchartButtonEl.classList.add('colab-df-spinner');\n",
              "      try {\n",
              "        const charts = await google.colab.kernel.invokeFunction(\n",
              "            'suggestCharts', [key], {});\n",
              "      } catch (error) {\n",
              "        console.error('Error during call to suggestCharts:', error);\n",
              "      }\n",
              "      quickchartButtonEl.classList.remove('colab-df-spinner');\n",
              "      quickchartButtonEl.classList.add('colab-df-quickchart-complete');\n",
              "    }\n",
              "    (() => {\n",
              "      let quickchartButtonEl =\n",
              "        document.querySelector('#df-54829297-a841-4e3b-a615-9fe2934c6986 button');\n",
              "      quickchartButtonEl.style.display =\n",
              "        google.colab.kernel.accessAllowed ? 'block' : 'none';\n",
              "    })();\n",
              "  </script>\n",
              "</div>\n",
              "\n",
              "    </div>\n",
              "  </div>\n"
            ],
            "application/vnd.google.colaboratory.intrinsic+json": {
              "type": "dataframe",
              "summary": "{\n  \"name\": \"cleaner\",\n  \"rows\": 1210,\n  \"fields\": [\n    {\n      \"column\": \"Company\",\n      \"properties\": {\n        \"dtype\": \"category\",\n        \"num_unique_values\": 19,\n        \"samples\": [\n          \"Apple\",\n          \"Lenovo\",\n          \"Xiaomi\"\n        ],\n        \"semantic_type\": \"\",\n        \"description\": \"\"\n      }\n    },\n    {\n      \"column\": \"Product\",\n      \"properties\": {\n        \"dtype\": \"category\",\n        \"num_unique_values\": 579,\n        \"samples\": [\n          \"Zenbook UX390UA\",\n          \"15-bw002nv (A6-9220/4GB/256GB/Radeon\",\n          \"GL62 6QF\"\n        ],\n        \"semantic_type\": \"\",\n        \"description\": \"\"\n      }\n    },\n    {\n      \"column\": \"TypeName\",\n      \"properties\": {\n        \"dtype\": \"category\",\n        \"num_unique_values\": 6,\n        \"samples\": [\n          \"Ultrabook\",\n          \"Notebook\",\n          \"Netbook\"\n        ],\n        \"semantic_type\": \"\",\n        \"description\": \"\"\n      }\n    },\n    {\n      \"column\": \"Inches\",\n      \"properties\": {\n        \"dtype\": \"number\",\n        \"std\": 1.2872157429453097,\n        \"min\": 12.0,\n        \"max\": 17.3,\n        \"num_unique_values\": 14,\n        \"samples\": [\n          13.9,\n          17.0,\n          13.3\n        ],\n        \"semantic_type\": \"\",\n        \"description\": \"\"\n      }\n    },\n    {\n      \"column\": \"ScreenResolution\",\n      \"properties\": {\n        \"dtype\": \"category\",\n        \"num_unique_values\": 39,\n        \"samples\": [\n          \"IPS Panel Touchscreen / 4K Ultra HD 3840x2160\",\n          \"Quad HD+ 3200x1800\",\n          \"1366x768\"\n        ],\n        \"semantic_type\": \"\",\n        \"description\": \"\"\n      }\n    },\n    {\n      \"column\": \"Cpu\",\n      \"properties\": {\n        \"dtype\": \"category\",\n        \"num_unique_values\": 110,\n        \"samples\": [\n          \"Intel Core M M3-6Y30 0.9GHz\",\n          \"Intel Core i7 2.8GHz\",\n          \"Intel Core i5 3.1GHz\"\n        ],\n        \"semantic_type\": \"\",\n        \"description\": \"\"\n      }\n    },\n    {\n      \"column\": \"Ram\",\n      \"properties\": {\n        \"dtype\": \"category\",\n        \"num_unique_values\": 8,\n        \"samples\": [\n          \"16GB\",\n          \"6GB\",\n          \"8GB\"\n        ],\n        \"semantic_type\": \"\",\n        \"description\": \"\"\n      }\n    },\n    {\n      \"column\": \"Memory\",\n      \"properties\": {\n        \"dtype\": \"category\",\n        \"num_unique_values\": 36,\n        \"samples\": [\n          \"256GB SSD +  1.0TB Hybrid\",\n          \"32GB SSD\",\n          \"64GB Flash Storage +  1TB HDD\"\n        ],\n        \"semantic_type\": \"\",\n        \"description\": \"\"\n      }\n    },\n    {\n      \"column\": \"Gpu\",\n      \"properties\": {\n        \"dtype\": \"category\",\n        \"num_unique_values\": 101,\n        \"samples\": [\n          \"AMD Radeon R7 Graphics\",\n          \"Intel HD Graphics 405\",\n          \"AMD Radeon R2 Graphics\"\n        ],\n        \"semantic_type\": \"\",\n        \"description\": \"\"\n      }\n    },\n    {\n      \"column\": \"OpSys\",\n      \"properties\": {\n        \"dtype\": \"category\",\n        \"num_unique_values\": 8,\n        \"samples\": [\n          \"No OS\",\n          \"Windows 10 S\",\n          \"macOS\"\n        ],\n        \"semantic_type\": \"\",\n        \"description\": \"\"\n      }\n    },\n    {\n      \"column\": \"Weight\",\n      \"properties\": {\n        \"dtype\": \"category\",\n        \"num_unique_values\": 172,\n        \"samples\": [\n          \"2.37kg\",\n          \"0.81kg\",\n          \"1.08kg\"\n        ],\n        \"semantic_type\": \"\",\n        \"description\": \"\"\n      }\n    },\n    {\n      \"column\": \"Price_euros\",\n      \"properties\": {\n        \"dtype\": \"number\",\n        \"std\": 594.3319427443631,\n        \"min\": 196.0,\n        \"max\": 2824.0,\n        \"num_unique_values\": 747,\n        \"samples\": [\n          2499.0,\n          1579.0,\n          1262.0\n        ],\n        \"semantic_type\": \"\",\n        \"description\": \"\"\n      }\n    }\n  ]\n}"
            }
          },
          "metadata": {},
          "execution_count": 89
        }
      ]
    },
    {
      "cell_type": "markdown",
      "source": [
        "reduced to 1210 rows"
      ],
      "metadata": {
        "id": "U5Ffvmku1lCV"
      }
    },
    {
      "cell_type": "code",
      "source": [
        "df.skew(numeric_only=True).sort_values(ascending=False)"
      ],
      "metadata": {
        "colab": {
          "base_uri": "https://localhost:8080/"
        },
        "id": "VqvkaOOQ1nnW",
        "outputId": "6af99294-437e-4822-f301-63689291fd2a"
      },
      "execution_count": 90,
      "outputs": [
        {
          "output_type": "execute_result",
          "data": {
            "text/plain": [
              "Price_euros    1.511147\n",
              "Inches        -0.438622\n",
              "dtype: float64"
            ]
          },
          "metadata": {},
          "execution_count": 90
        }
      ]
    },
    {
      "cell_type": "markdown",
      "source": [
        "Price euros is right skewed"
      ],
      "metadata": {
        "id": "DblQPS-T1tdo"
      }
    },
    {
      "cell_type": "code",
      "source": [
        "df['Price_euros']=np.log(df['Price_euros'])"
      ],
      "metadata": {
        "id": "ToMCbLqI1wz6"
      },
      "execution_count": 91,
      "outputs": []
    },
    {
      "cell_type": "code",
      "source": [
        "df['Ram'] = df['Ram'].str.replace('GB', '').astype(int)\n",
        "df['Weight'] = df['Weight'].str.replace('kg', '').astype(float)"
      ],
      "metadata": {
        "id": "yVKHE3eiyt7n"
      },
      "execution_count": 92,
      "outputs": []
    },
    {
      "cell_type": "code",
      "source": [
        "df = pd.get_dummies(df, columns=['Company', 'TypeName', 'ScreenResolution', 'Cpu', 'Memory', 'Gpu', 'OpSys'], drop_first=True,dtype=int)"
      ],
      "metadata": {
        "id": "vVGbvf5yzGVp"
      },
      "execution_count": 93,
      "outputs": []
    },
    {
      "cell_type": "code",
      "source": [
        "from sklearn.preprocessing import StandardScaler\n",
        "scaler = StandardScaler()\n",
        "numeric_columns = df.select_dtypes(include=['number'])\n",
        "df[numeric_columns.columns] = scaler.fit_transform(df[numeric_columns.columns])"
      ],
      "metadata": {
        "id": "FLFsvQ7M149_"
      },
      "execution_count": 94,
      "outputs": []
    },
    {
      "cell_type": "code",
      "source": [
        "missing_values = df.isnull().sum()\n",
        "print(missing_values[missing_values > 0])"
      ],
      "metadata": {
        "colab": {
          "base_uri": "https://localhost:8080/"
        },
        "id": "pynWAyIc17xv",
        "outputId": "efa5a4d3-6101-403c-f53c-162ee7a09779"
      },
      "execution_count": 95,
      "outputs": [
        {
          "output_type": "stream",
          "name": "stdout",
          "text": [
            "Series([], dtype: int64)\n"
          ]
        }
      ]
    },
    {
      "cell_type": "code",
      "source": [
        "x = df.drop(['Price_euros', 'Product'], axis=1)\n",
        "y = df['Price_euros']"
      ],
      "metadata": {
        "id": "ThCA7bU-zQR7"
      },
      "execution_count": 96,
      "outputs": []
    },
    {
      "cell_type": "code",
      "source": [
        "x"
      ],
      "metadata": {
        "colab": {
          "base_uri": "https://localhost:8080/",
          "height": 478
        },
        "id": "LUMWUx1g1-PC",
        "outputId": "4da5982f-85bd-4566-d50a-d2b95f64c223"
      },
      "execution_count": 99,
      "outputs": [
        {
          "output_type": "execute_result",
          "data": {
            "text/plain": [
              "        Inches       Ram    Weight  Company_Apple  Company_Asus  \\\n",
              "0    -1.205746 -0.086499 -1.002380       7.727502     -0.367902   \n",
              "1    -1.205746 -0.086499 -1.047227       7.727502     -0.367902   \n",
              "2     0.403873 -0.086499 -0.269871      -0.129408     -0.367902   \n",
              "3     0.263906  1.483418 -0.314718       7.727502     -0.367902   \n",
              "4    -1.205746 -0.086499 -1.002380       7.727502     -0.367902   \n",
              "...        ...       ...       ...            ...           ...   \n",
              "1270 -0.715862 -0.871458 -0.359566      -0.129408     -0.367902   \n",
              "1271 -1.205746  1.483418 -1.107024      -0.129408     -0.367902   \n",
              "1272 -0.715862 -1.263937 -0.808041      -0.129408     -0.367902   \n",
              "1273  0.403873 -0.478979  0.223452      -0.129408     -0.367902   \n",
              "1274  0.403873 -0.871458  0.238401      -0.129408      2.718117   \n",
              "\n",
              "      Company_Chuwi  Company_Dell  Company_Fujitsu  Company_Google  \\\n",
              "0         -0.048564     -0.543812        -0.048564       -0.048564   \n",
              "1         -0.048564     -0.543812        -0.048564       -0.048564   \n",
              "2         -0.048564     -0.543812        -0.048564       -0.048564   \n",
              "3         -0.048564     -0.543812        -0.048564       -0.048564   \n",
              "4         -0.048564     -0.543812        -0.048564       -0.048564   \n",
              "...             ...           ...              ...             ...   \n",
              "1270      -0.048564     -0.543812        -0.048564       -0.048564   \n",
              "1271      -0.048564     -0.543812        -0.048564       -0.048564   \n",
              "1272      -0.048564     -0.543812        -0.048564       -0.048564   \n",
              "1273      -0.048564     -0.543812        -0.048564       -0.048564   \n",
              "1274      -0.048564     -0.543812        -0.048564       -0.048564   \n",
              "\n",
              "      Company_HP  ...  Gpu_Nvidia Quadro M620  Gpu_Nvidia Quadro M620M  \\\n",
              "0      -0.515885  ...               -0.062746                -0.028017   \n",
              "1      -0.515885  ...               -0.062746                -0.028017   \n",
              "2       1.938418  ...               -0.062746                -0.028017   \n",
              "3      -0.515885  ...               -0.062746                -0.028017   \n",
              "4      -0.515885  ...               -0.062746                -0.028017   \n",
              "...          ...  ...                     ...                      ...   \n",
              "1270   -0.515885  ...               -0.062746                -0.028017   \n",
              "1271   -0.515885  ...               -0.062746                -0.028017   \n",
              "1272   -0.515885  ...               -0.062746                -0.028017   \n",
              "1273    1.938418  ...               -0.062746                -0.028017   \n",
              "1274   -0.515885  ...               -0.062746                -0.028017   \n",
              "\n",
              "      OpSys_Chrome OS  OpSys_Linux  OpSys_Mac OS X  OpSys_No OS  \\\n",
              "0           -0.147087    -0.218308       -0.079461    -0.233646   \n",
              "1           -0.147087    -0.218308       -0.079461    -0.233646   \n",
              "2           -0.147087    -0.218308       -0.079461     4.279975   \n",
              "3           -0.147087    -0.218308       -0.079461    -0.233646   \n",
              "4           -0.147087    -0.218308       -0.079461    -0.233646   \n",
              "...               ...          ...             ...          ...   \n",
              "1270        -0.147087    -0.218308       -0.079461    -0.233646   \n",
              "1271        -0.147087    -0.218308       -0.079461    -0.233646   \n",
              "1272        -0.147087    -0.218308       -0.079461    -0.233646   \n",
              "1273        -0.147087    -0.218308       -0.079461    -0.233646   \n",
              "1274        -0.147087    -0.218308       -0.079461    -0.233646   \n",
              "\n",
              "      OpSys_Windows 10  OpSys_Windows 10 S  OpSys_Windows 7  OpSys_macOS  \n",
              "0            -2.148660           -0.079461        -0.191273     9.852762  \n",
              "1            -2.148660           -0.079461        -0.191273     9.852762  \n",
              "2            -2.148660           -0.079461        -0.191273    -0.101494  \n",
              "3            -2.148660           -0.079461        -0.191273     9.852762  \n",
              "4            -2.148660           -0.079461        -0.191273     9.852762  \n",
              "...                ...                 ...              ...          ...  \n",
              "1270          0.465406           -0.079461        -0.191273    -0.101494  \n",
              "1271          0.465406           -0.079461        -0.191273    -0.101494  \n",
              "1272          0.465406           -0.079461        -0.191273    -0.101494  \n",
              "1273          0.465406           -0.079461        -0.191273    -0.101494  \n",
              "1274          0.465406           -0.079461        -0.191273    -0.101494  \n",
              "\n",
              "[1275 rows x 337 columns]"
            ],
            "text/html": [
              "\n",
              "  <div id=\"df-65a3c261-498a-41cb-bb61-f0cb7ad0cc7a\" class=\"colab-df-container\">\n",
              "    <div>\n",
              "<style scoped>\n",
              "    .dataframe tbody tr th:only-of-type {\n",
              "        vertical-align: middle;\n",
              "    }\n",
              "\n",
              "    .dataframe tbody tr th {\n",
              "        vertical-align: top;\n",
              "    }\n",
              "\n",
              "    .dataframe thead th {\n",
              "        text-align: right;\n",
              "    }\n",
              "</style>\n",
              "<table border=\"1\" class=\"dataframe\">\n",
              "  <thead>\n",
              "    <tr style=\"text-align: right;\">\n",
              "      <th></th>\n",
              "      <th>Inches</th>\n",
              "      <th>Ram</th>\n",
              "      <th>Weight</th>\n",
              "      <th>Company_Apple</th>\n",
              "      <th>Company_Asus</th>\n",
              "      <th>Company_Chuwi</th>\n",
              "      <th>Company_Dell</th>\n",
              "      <th>Company_Fujitsu</th>\n",
              "      <th>Company_Google</th>\n",
              "      <th>Company_HP</th>\n",
              "      <th>...</th>\n",
              "      <th>Gpu_Nvidia Quadro M620</th>\n",
              "      <th>Gpu_Nvidia Quadro M620M</th>\n",
              "      <th>OpSys_Chrome OS</th>\n",
              "      <th>OpSys_Linux</th>\n",
              "      <th>OpSys_Mac OS X</th>\n",
              "      <th>OpSys_No OS</th>\n",
              "      <th>OpSys_Windows 10</th>\n",
              "      <th>OpSys_Windows 10 S</th>\n",
              "      <th>OpSys_Windows 7</th>\n",
              "      <th>OpSys_macOS</th>\n",
              "    </tr>\n",
              "  </thead>\n",
              "  <tbody>\n",
              "    <tr>\n",
              "      <th>0</th>\n",
              "      <td>-1.205746</td>\n",
              "      <td>-0.086499</td>\n",
              "      <td>-1.002380</td>\n",
              "      <td>7.727502</td>\n",
              "      <td>-0.367902</td>\n",
              "      <td>-0.048564</td>\n",
              "      <td>-0.543812</td>\n",
              "      <td>-0.048564</td>\n",
              "      <td>-0.048564</td>\n",
              "      <td>-0.515885</td>\n",
              "      <td>...</td>\n",
              "      <td>-0.062746</td>\n",
              "      <td>-0.028017</td>\n",
              "      <td>-0.147087</td>\n",
              "      <td>-0.218308</td>\n",
              "      <td>-0.079461</td>\n",
              "      <td>-0.233646</td>\n",
              "      <td>-2.148660</td>\n",
              "      <td>-0.079461</td>\n",
              "      <td>-0.191273</td>\n",
              "      <td>9.852762</td>\n",
              "    </tr>\n",
              "    <tr>\n",
              "      <th>1</th>\n",
              "      <td>-1.205746</td>\n",
              "      <td>-0.086499</td>\n",
              "      <td>-1.047227</td>\n",
              "      <td>7.727502</td>\n",
              "      <td>-0.367902</td>\n",
              "      <td>-0.048564</td>\n",
              "      <td>-0.543812</td>\n",
              "      <td>-0.048564</td>\n",
              "      <td>-0.048564</td>\n",
              "      <td>-0.515885</td>\n",
              "      <td>...</td>\n",
              "      <td>-0.062746</td>\n",
              "      <td>-0.028017</td>\n",
              "      <td>-0.147087</td>\n",
              "      <td>-0.218308</td>\n",
              "      <td>-0.079461</td>\n",
              "      <td>-0.233646</td>\n",
              "      <td>-2.148660</td>\n",
              "      <td>-0.079461</td>\n",
              "      <td>-0.191273</td>\n",
              "      <td>9.852762</td>\n",
              "    </tr>\n",
              "    <tr>\n",
              "      <th>2</th>\n",
              "      <td>0.403873</td>\n",
              "      <td>-0.086499</td>\n",
              "      <td>-0.269871</td>\n",
              "      <td>-0.129408</td>\n",
              "      <td>-0.367902</td>\n",
              "      <td>-0.048564</td>\n",
              "      <td>-0.543812</td>\n",
              "      <td>-0.048564</td>\n",
              "      <td>-0.048564</td>\n",
              "      <td>1.938418</td>\n",
              "      <td>...</td>\n",
              "      <td>-0.062746</td>\n",
              "      <td>-0.028017</td>\n",
              "      <td>-0.147087</td>\n",
              "      <td>-0.218308</td>\n",
              "      <td>-0.079461</td>\n",
              "      <td>4.279975</td>\n",
              "      <td>-2.148660</td>\n",
              "      <td>-0.079461</td>\n",
              "      <td>-0.191273</td>\n",
              "      <td>-0.101494</td>\n",
              "    </tr>\n",
              "    <tr>\n",
              "      <th>3</th>\n",
              "      <td>0.263906</td>\n",
              "      <td>1.483418</td>\n",
              "      <td>-0.314718</td>\n",
              "      <td>7.727502</td>\n",
              "      <td>-0.367902</td>\n",
              "      <td>-0.048564</td>\n",
              "      <td>-0.543812</td>\n",
              "      <td>-0.048564</td>\n",
              "      <td>-0.048564</td>\n",
              "      <td>-0.515885</td>\n",
              "      <td>...</td>\n",
              "      <td>-0.062746</td>\n",
              "      <td>-0.028017</td>\n",
              "      <td>-0.147087</td>\n",
              "      <td>-0.218308</td>\n",
              "      <td>-0.079461</td>\n",
              "      <td>-0.233646</td>\n",
              "      <td>-2.148660</td>\n",
              "      <td>-0.079461</td>\n",
              "      <td>-0.191273</td>\n",
              "      <td>9.852762</td>\n",
              "    </tr>\n",
              "    <tr>\n",
              "      <th>4</th>\n",
              "      <td>-1.205746</td>\n",
              "      <td>-0.086499</td>\n",
              "      <td>-1.002380</td>\n",
              "      <td>7.727502</td>\n",
              "      <td>-0.367902</td>\n",
              "      <td>-0.048564</td>\n",
              "      <td>-0.543812</td>\n",
              "      <td>-0.048564</td>\n",
              "      <td>-0.048564</td>\n",
              "      <td>-0.515885</td>\n",
              "      <td>...</td>\n",
              "      <td>-0.062746</td>\n",
              "      <td>-0.028017</td>\n",
              "      <td>-0.147087</td>\n",
              "      <td>-0.218308</td>\n",
              "      <td>-0.079461</td>\n",
              "      <td>-0.233646</td>\n",
              "      <td>-2.148660</td>\n",
              "      <td>-0.079461</td>\n",
              "      <td>-0.191273</td>\n",
              "      <td>9.852762</td>\n",
              "    </tr>\n",
              "    <tr>\n",
              "      <th>...</th>\n",
              "      <td>...</td>\n",
              "      <td>...</td>\n",
              "      <td>...</td>\n",
              "      <td>...</td>\n",
              "      <td>...</td>\n",
              "      <td>...</td>\n",
              "      <td>...</td>\n",
              "      <td>...</td>\n",
              "      <td>...</td>\n",
              "      <td>...</td>\n",
              "      <td>...</td>\n",
              "      <td>...</td>\n",
              "      <td>...</td>\n",
              "      <td>...</td>\n",
              "      <td>...</td>\n",
              "      <td>...</td>\n",
              "      <td>...</td>\n",
              "      <td>...</td>\n",
              "      <td>...</td>\n",
              "      <td>...</td>\n",
              "      <td>...</td>\n",
              "    </tr>\n",
              "    <tr>\n",
              "      <th>1270</th>\n",
              "      <td>-0.715862</td>\n",
              "      <td>-0.871458</td>\n",
              "      <td>-0.359566</td>\n",
              "      <td>-0.129408</td>\n",
              "      <td>-0.367902</td>\n",
              "      <td>-0.048564</td>\n",
              "      <td>-0.543812</td>\n",
              "      <td>-0.048564</td>\n",
              "      <td>-0.048564</td>\n",
              "      <td>-0.515885</td>\n",
              "      <td>...</td>\n",
              "      <td>-0.062746</td>\n",
              "      <td>-0.028017</td>\n",
              "      <td>-0.147087</td>\n",
              "      <td>-0.218308</td>\n",
              "      <td>-0.079461</td>\n",
              "      <td>-0.233646</td>\n",
              "      <td>0.465406</td>\n",
              "      <td>-0.079461</td>\n",
              "      <td>-0.191273</td>\n",
              "      <td>-0.101494</td>\n",
              "    </tr>\n",
              "    <tr>\n",
              "      <th>1271</th>\n",
              "      <td>-1.205746</td>\n",
              "      <td>1.483418</td>\n",
              "      <td>-1.107024</td>\n",
              "      <td>-0.129408</td>\n",
              "      <td>-0.367902</td>\n",
              "      <td>-0.048564</td>\n",
              "      <td>-0.543812</td>\n",
              "      <td>-0.048564</td>\n",
              "      <td>-0.048564</td>\n",
              "      <td>-0.515885</td>\n",
              "      <td>...</td>\n",
              "      <td>-0.062746</td>\n",
              "      <td>-0.028017</td>\n",
              "      <td>-0.147087</td>\n",
              "      <td>-0.218308</td>\n",
              "      <td>-0.079461</td>\n",
              "      <td>-0.233646</td>\n",
              "      <td>0.465406</td>\n",
              "      <td>-0.079461</td>\n",
              "      <td>-0.191273</td>\n",
              "      <td>-0.101494</td>\n",
              "    </tr>\n",
              "    <tr>\n",
              "      <th>1272</th>\n",
              "      <td>-0.715862</td>\n",
              "      <td>-1.263937</td>\n",
              "      <td>-0.808041</td>\n",
              "      <td>-0.129408</td>\n",
              "      <td>-0.367902</td>\n",
              "      <td>-0.048564</td>\n",
              "      <td>-0.543812</td>\n",
              "      <td>-0.048564</td>\n",
              "      <td>-0.048564</td>\n",
              "      <td>-0.515885</td>\n",
              "      <td>...</td>\n",
              "      <td>-0.062746</td>\n",
              "      <td>-0.028017</td>\n",
              "      <td>-0.147087</td>\n",
              "      <td>-0.218308</td>\n",
              "      <td>-0.079461</td>\n",
              "      <td>-0.233646</td>\n",
              "      <td>0.465406</td>\n",
              "      <td>-0.079461</td>\n",
              "      <td>-0.191273</td>\n",
              "      <td>-0.101494</td>\n",
              "    </tr>\n",
              "    <tr>\n",
              "      <th>1273</th>\n",
              "      <td>0.403873</td>\n",
              "      <td>-0.478979</td>\n",
              "      <td>0.223452</td>\n",
              "      <td>-0.129408</td>\n",
              "      <td>-0.367902</td>\n",
              "      <td>-0.048564</td>\n",
              "      <td>-0.543812</td>\n",
              "      <td>-0.048564</td>\n",
              "      <td>-0.048564</td>\n",
              "      <td>1.938418</td>\n",
              "      <td>...</td>\n",
              "      <td>-0.062746</td>\n",
              "      <td>-0.028017</td>\n",
              "      <td>-0.147087</td>\n",
              "      <td>-0.218308</td>\n",
              "      <td>-0.079461</td>\n",
              "      <td>-0.233646</td>\n",
              "      <td>0.465406</td>\n",
              "      <td>-0.079461</td>\n",
              "      <td>-0.191273</td>\n",
              "      <td>-0.101494</td>\n",
              "    </tr>\n",
              "    <tr>\n",
              "      <th>1274</th>\n",
              "      <td>0.403873</td>\n",
              "      <td>-0.871458</td>\n",
              "      <td>0.238401</td>\n",
              "      <td>-0.129408</td>\n",
              "      <td>2.718117</td>\n",
              "      <td>-0.048564</td>\n",
              "      <td>-0.543812</td>\n",
              "      <td>-0.048564</td>\n",
              "      <td>-0.048564</td>\n",
              "      <td>-0.515885</td>\n",
              "      <td>...</td>\n",
              "      <td>-0.062746</td>\n",
              "      <td>-0.028017</td>\n",
              "      <td>-0.147087</td>\n",
              "      <td>-0.218308</td>\n",
              "      <td>-0.079461</td>\n",
              "      <td>-0.233646</td>\n",
              "      <td>0.465406</td>\n",
              "      <td>-0.079461</td>\n",
              "      <td>-0.191273</td>\n",
              "      <td>-0.101494</td>\n",
              "    </tr>\n",
              "  </tbody>\n",
              "</table>\n",
              "<p>1275 rows × 337 columns</p>\n",
              "</div>\n",
              "    <div class=\"colab-df-buttons\">\n",
              "\n",
              "  <div class=\"colab-df-container\">\n",
              "    <button class=\"colab-df-convert\" onclick=\"convertToInteractive('df-65a3c261-498a-41cb-bb61-f0cb7ad0cc7a')\"\n",
              "            title=\"Convert this dataframe to an interactive table.\"\n",
              "            style=\"display:none;\">\n",
              "\n",
              "  <svg xmlns=\"http://www.w3.org/2000/svg\" height=\"24px\" viewBox=\"0 -960 960 960\">\n",
              "    <path d=\"M120-120v-720h720v720H120Zm60-500h600v-160H180v160Zm220 220h160v-160H400v160Zm0 220h160v-160H400v160ZM180-400h160v-160H180v160Zm440 0h160v-160H620v160ZM180-180h160v-160H180v160Zm440 0h160v-160H620v160Z\"/>\n",
              "  </svg>\n",
              "    </button>\n",
              "\n",
              "  <style>\n",
              "    .colab-df-container {\n",
              "      display:flex;\n",
              "      gap: 12px;\n",
              "    }\n",
              "\n",
              "    .colab-df-convert {\n",
              "      background-color: #E8F0FE;\n",
              "      border: none;\n",
              "      border-radius: 50%;\n",
              "      cursor: pointer;\n",
              "      display: none;\n",
              "      fill: #1967D2;\n",
              "      height: 32px;\n",
              "      padding: 0 0 0 0;\n",
              "      width: 32px;\n",
              "    }\n",
              "\n",
              "    .colab-df-convert:hover {\n",
              "      background-color: #E2EBFA;\n",
              "      box-shadow: 0px 1px 2px rgba(60, 64, 67, 0.3), 0px 1px 3px 1px rgba(60, 64, 67, 0.15);\n",
              "      fill: #174EA6;\n",
              "    }\n",
              "\n",
              "    .colab-df-buttons div {\n",
              "      margin-bottom: 4px;\n",
              "    }\n",
              "\n",
              "    [theme=dark] .colab-df-convert {\n",
              "      background-color: #3B4455;\n",
              "      fill: #D2E3FC;\n",
              "    }\n",
              "\n",
              "    [theme=dark] .colab-df-convert:hover {\n",
              "      background-color: #434B5C;\n",
              "      box-shadow: 0px 1px 3px 1px rgba(0, 0, 0, 0.15);\n",
              "      filter: drop-shadow(0px 1px 2px rgba(0, 0, 0, 0.3));\n",
              "      fill: #FFFFFF;\n",
              "    }\n",
              "  </style>\n",
              "\n",
              "    <script>\n",
              "      const buttonEl =\n",
              "        document.querySelector('#df-65a3c261-498a-41cb-bb61-f0cb7ad0cc7a button.colab-df-convert');\n",
              "      buttonEl.style.display =\n",
              "        google.colab.kernel.accessAllowed ? 'block' : 'none';\n",
              "\n",
              "      async function convertToInteractive(key) {\n",
              "        const element = document.querySelector('#df-65a3c261-498a-41cb-bb61-f0cb7ad0cc7a');\n",
              "        const dataTable =\n",
              "          await google.colab.kernel.invokeFunction('convertToInteractive',\n",
              "                                                    [key], {});\n",
              "        if (!dataTable) return;\n",
              "\n",
              "        const docLinkHtml = 'Like what you see? Visit the ' +\n",
              "          '<a target=\"_blank\" href=https://colab.research.google.com/notebooks/data_table.ipynb>data table notebook</a>'\n",
              "          + ' to learn more about interactive tables.';\n",
              "        element.innerHTML = '';\n",
              "        dataTable['output_type'] = 'display_data';\n",
              "        await google.colab.output.renderOutput(dataTable, element);\n",
              "        const docLink = document.createElement('div');\n",
              "        docLink.innerHTML = docLinkHtml;\n",
              "        element.appendChild(docLink);\n",
              "      }\n",
              "    </script>\n",
              "  </div>\n",
              "\n",
              "\n",
              "<div id=\"df-cdef8bd8-7a43-48a6-a4a7-b620c2cb93a1\">\n",
              "  <button class=\"colab-df-quickchart\" onclick=\"quickchart('df-cdef8bd8-7a43-48a6-a4a7-b620c2cb93a1')\"\n",
              "            title=\"Suggest charts\"\n",
              "            style=\"display:none;\">\n",
              "\n",
              "<svg xmlns=\"http://www.w3.org/2000/svg\" height=\"24px\"viewBox=\"0 0 24 24\"\n",
              "     width=\"24px\">\n",
              "    <g>\n",
              "        <path d=\"M19 3H5c-1.1 0-2 .9-2 2v14c0 1.1.9 2 2 2h14c1.1 0 2-.9 2-2V5c0-1.1-.9-2-2-2zM9 17H7v-7h2v7zm4 0h-2V7h2v10zm4 0h-2v-4h2v4z\"/>\n",
              "    </g>\n",
              "</svg>\n",
              "  </button>\n",
              "\n",
              "<style>\n",
              "  .colab-df-quickchart {\n",
              "      --bg-color: #E8F0FE;\n",
              "      --fill-color: #1967D2;\n",
              "      --hover-bg-color: #E2EBFA;\n",
              "      --hover-fill-color: #174EA6;\n",
              "      --disabled-fill-color: #AAA;\n",
              "      --disabled-bg-color: #DDD;\n",
              "  }\n",
              "\n",
              "  [theme=dark] .colab-df-quickchart {\n",
              "      --bg-color: #3B4455;\n",
              "      --fill-color: #D2E3FC;\n",
              "      --hover-bg-color: #434B5C;\n",
              "      --hover-fill-color: #FFFFFF;\n",
              "      --disabled-bg-color: #3B4455;\n",
              "      --disabled-fill-color: #666;\n",
              "  }\n",
              "\n",
              "  .colab-df-quickchart {\n",
              "    background-color: var(--bg-color);\n",
              "    border: none;\n",
              "    border-radius: 50%;\n",
              "    cursor: pointer;\n",
              "    display: none;\n",
              "    fill: var(--fill-color);\n",
              "    height: 32px;\n",
              "    padding: 0;\n",
              "    width: 32px;\n",
              "  }\n",
              "\n",
              "  .colab-df-quickchart:hover {\n",
              "    background-color: var(--hover-bg-color);\n",
              "    box-shadow: 0 1px 2px rgba(60, 64, 67, 0.3), 0 1px 3px 1px rgba(60, 64, 67, 0.15);\n",
              "    fill: var(--button-hover-fill-color);\n",
              "  }\n",
              "\n",
              "  .colab-df-quickchart-complete:disabled,\n",
              "  .colab-df-quickchart-complete:disabled:hover {\n",
              "    background-color: var(--disabled-bg-color);\n",
              "    fill: var(--disabled-fill-color);\n",
              "    box-shadow: none;\n",
              "  }\n",
              "\n",
              "  .colab-df-spinner {\n",
              "    border: 2px solid var(--fill-color);\n",
              "    border-color: transparent;\n",
              "    border-bottom-color: var(--fill-color);\n",
              "    animation:\n",
              "      spin 1s steps(1) infinite;\n",
              "  }\n",
              "\n",
              "  @keyframes spin {\n",
              "    0% {\n",
              "      border-color: transparent;\n",
              "      border-bottom-color: var(--fill-color);\n",
              "      border-left-color: var(--fill-color);\n",
              "    }\n",
              "    20% {\n",
              "      border-color: transparent;\n",
              "      border-left-color: var(--fill-color);\n",
              "      border-top-color: var(--fill-color);\n",
              "    }\n",
              "    30% {\n",
              "      border-color: transparent;\n",
              "      border-left-color: var(--fill-color);\n",
              "      border-top-color: var(--fill-color);\n",
              "      border-right-color: var(--fill-color);\n",
              "    }\n",
              "    40% {\n",
              "      border-color: transparent;\n",
              "      border-right-color: var(--fill-color);\n",
              "      border-top-color: var(--fill-color);\n",
              "    }\n",
              "    60% {\n",
              "      border-color: transparent;\n",
              "      border-right-color: var(--fill-color);\n",
              "    }\n",
              "    80% {\n",
              "      border-color: transparent;\n",
              "      border-right-color: var(--fill-color);\n",
              "      border-bottom-color: var(--fill-color);\n",
              "    }\n",
              "    90% {\n",
              "      border-color: transparent;\n",
              "      border-bottom-color: var(--fill-color);\n",
              "    }\n",
              "  }\n",
              "</style>\n",
              "\n",
              "  <script>\n",
              "    async function quickchart(key) {\n",
              "      const quickchartButtonEl =\n",
              "        document.querySelector('#' + key + ' button');\n",
              "      quickchartButtonEl.disabled = true;  // To prevent multiple clicks.\n",
              "      quickchartButtonEl.classList.add('colab-df-spinner');\n",
              "      try {\n",
              "        const charts = await google.colab.kernel.invokeFunction(\n",
              "            'suggestCharts', [key], {});\n",
              "      } catch (error) {\n",
              "        console.error('Error during call to suggestCharts:', error);\n",
              "      }\n",
              "      quickchartButtonEl.classList.remove('colab-df-spinner');\n",
              "      quickchartButtonEl.classList.add('colab-df-quickchart-complete');\n",
              "    }\n",
              "    (() => {\n",
              "      let quickchartButtonEl =\n",
              "        document.querySelector('#df-cdef8bd8-7a43-48a6-a4a7-b620c2cb93a1 button');\n",
              "      quickchartButtonEl.style.display =\n",
              "        google.colab.kernel.accessAllowed ? 'block' : 'none';\n",
              "    })();\n",
              "  </script>\n",
              "</div>\n",
              "\n",
              "  <div id=\"id_f8deb01c-a8a8-424d-90d6-00ff4c8db3dc\">\n",
              "    <style>\n",
              "      .colab-df-generate {\n",
              "        background-color: #E8F0FE;\n",
              "        border: none;\n",
              "        border-radius: 50%;\n",
              "        cursor: pointer;\n",
              "        display: none;\n",
              "        fill: #1967D2;\n",
              "        height: 32px;\n",
              "        padding: 0 0 0 0;\n",
              "        width: 32px;\n",
              "      }\n",
              "\n",
              "      .colab-df-generate:hover {\n",
              "        background-color: #E2EBFA;\n",
              "        box-shadow: 0px 1px 2px rgba(60, 64, 67, 0.3), 0px 1px 3px 1px rgba(60, 64, 67, 0.15);\n",
              "        fill: #174EA6;\n",
              "      }\n",
              "\n",
              "      [theme=dark] .colab-df-generate {\n",
              "        background-color: #3B4455;\n",
              "        fill: #D2E3FC;\n",
              "      }\n",
              "\n",
              "      [theme=dark] .colab-df-generate:hover {\n",
              "        background-color: #434B5C;\n",
              "        box-shadow: 0px 1px 3px 1px rgba(0, 0, 0, 0.15);\n",
              "        filter: drop-shadow(0px 1px 2px rgba(0, 0, 0, 0.3));\n",
              "        fill: #FFFFFF;\n",
              "      }\n",
              "    </style>\n",
              "    <button class=\"colab-df-generate\" onclick=\"generateWithVariable('x')\"\n",
              "            title=\"Generate code using this dataframe.\"\n",
              "            style=\"display:none;\">\n",
              "\n",
              "  <svg xmlns=\"http://www.w3.org/2000/svg\" height=\"24px\"viewBox=\"0 0 24 24\"\n",
              "       width=\"24px\">\n",
              "    <path d=\"M7,19H8.4L18.45,9,17,7.55,7,17.6ZM5,21V16.75L18.45,3.32a2,2,0,0,1,2.83,0l1.4,1.43a1.91,1.91,0,0,1,.58,1.4,1.91,1.91,0,0,1-.58,1.4L9.25,21ZM18.45,9,17,7.55Zm-12,3A5.31,5.31,0,0,0,4.9,8.1,5.31,5.31,0,0,0,1,6.5,5.31,5.31,0,0,0,4.9,4.9,5.31,5.31,0,0,0,6.5,1,5.31,5.31,0,0,0,8.1,4.9,5.31,5.31,0,0,0,12,6.5,5.46,5.46,0,0,0,6.5,12Z\"/>\n",
              "  </svg>\n",
              "    </button>\n",
              "    <script>\n",
              "      (() => {\n",
              "      const buttonEl =\n",
              "        document.querySelector('#id_f8deb01c-a8a8-424d-90d6-00ff4c8db3dc button.colab-df-generate');\n",
              "      buttonEl.style.display =\n",
              "        google.colab.kernel.accessAllowed ? 'block' : 'none';\n",
              "\n",
              "      buttonEl.onclick = () => {\n",
              "        google.colab.notebook.generateWithVariable('x');\n",
              "      }\n",
              "      })();\n",
              "    </script>\n",
              "  </div>\n",
              "\n",
              "    </div>\n",
              "  </div>\n"
            ],
            "application/vnd.google.colaboratory.intrinsic+json": {
              "type": "dataframe",
              "variable_name": "x"
            }
          },
          "metadata": {},
          "execution_count": 99
        }
      ]
    },
    {
      "cell_type": "code",
      "source": [
        "x_train, x_test, y_train, y_test = train_test_split(x, y, test_size=0.2, random_state=42)"
      ],
      "metadata": {
        "id": "qj4co3VmzU99"
      },
      "execution_count": 98,
      "outputs": []
    },
    {
      "cell_type": "code",
      "source": [
        "lin= LinearRegression()\n",
        "lin.fit(x_train,y_train)"
      ],
      "metadata": {
        "colab": {
          "base_uri": "https://localhost:8080/",
          "height": 75
        },
        "id": "7k38XQ9IzW4h",
        "outputId": "513d36bd-0504-4938-f50f-2a116ce9324c"
      },
      "execution_count": 100,
      "outputs": [
        {
          "output_type": "execute_result",
          "data": {
            "text/plain": [
              "LinearRegression()"
            ],
            "text/html": [
              "<style>#sk-container-id-1 {color: black;background-color: white;}#sk-container-id-1 pre{padding: 0;}#sk-container-id-1 div.sk-toggleable {background-color: white;}#sk-container-id-1 label.sk-toggleable__label {cursor: pointer;display: block;width: 100%;margin-bottom: 0;padding: 0.3em;box-sizing: border-box;text-align: center;}#sk-container-id-1 label.sk-toggleable__label-arrow:before {content: \"▸\";float: left;margin-right: 0.25em;color: #696969;}#sk-container-id-1 label.sk-toggleable__label-arrow:hover:before {color: black;}#sk-container-id-1 div.sk-estimator:hover label.sk-toggleable__label-arrow:before {color: black;}#sk-container-id-1 div.sk-toggleable__content {max-height: 0;max-width: 0;overflow: hidden;text-align: left;background-color: #f0f8ff;}#sk-container-id-1 div.sk-toggleable__content pre {margin: 0.2em;color: black;border-radius: 0.25em;background-color: #f0f8ff;}#sk-container-id-1 input.sk-toggleable__control:checked~div.sk-toggleable__content {max-height: 200px;max-width: 100%;overflow: auto;}#sk-container-id-1 input.sk-toggleable__control:checked~label.sk-toggleable__label-arrow:before {content: \"▾\";}#sk-container-id-1 div.sk-estimator input.sk-toggleable__control:checked~label.sk-toggleable__label {background-color: #d4ebff;}#sk-container-id-1 div.sk-label input.sk-toggleable__control:checked~label.sk-toggleable__label {background-color: #d4ebff;}#sk-container-id-1 input.sk-hidden--visually {border: 0;clip: rect(1px 1px 1px 1px);clip: rect(1px, 1px, 1px, 1px);height: 1px;margin: -1px;overflow: hidden;padding: 0;position: absolute;width: 1px;}#sk-container-id-1 div.sk-estimator {font-family: monospace;background-color: #f0f8ff;border: 1px dotted black;border-radius: 0.25em;box-sizing: border-box;margin-bottom: 0.5em;}#sk-container-id-1 div.sk-estimator:hover {background-color: #d4ebff;}#sk-container-id-1 div.sk-parallel-item::after {content: \"\";width: 100%;border-bottom: 1px solid gray;flex-grow: 1;}#sk-container-id-1 div.sk-label:hover label.sk-toggleable__label {background-color: #d4ebff;}#sk-container-id-1 div.sk-serial::before {content: \"\";position: absolute;border-left: 1px solid gray;box-sizing: border-box;top: 0;bottom: 0;left: 50%;z-index: 0;}#sk-container-id-1 div.sk-serial {display: flex;flex-direction: column;align-items: center;background-color: white;padding-right: 0.2em;padding-left: 0.2em;position: relative;}#sk-container-id-1 div.sk-item {position: relative;z-index: 1;}#sk-container-id-1 div.sk-parallel {display: flex;align-items: stretch;justify-content: center;background-color: white;position: relative;}#sk-container-id-1 div.sk-item::before, #sk-container-id-1 div.sk-parallel-item::before {content: \"\";position: absolute;border-left: 1px solid gray;box-sizing: border-box;top: 0;bottom: 0;left: 50%;z-index: -1;}#sk-container-id-1 div.sk-parallel-item {display: flex;flex-direction: column;z-index: 1;position: relative;background-color: white;}#sk-container-id-1 div.sk-parallel-item:first-child::after {align-self: flex-end;width: 50%;}#sk-container-id-1 div.sk-parallel-item:last-child::after {align-self: flex-start;width: 50%;}#sk-container-id-1 div.sk-parallel-item:only-child::after {width: 0;}#sk-container-id-1 div.sk-dashed-wrapped {border: 1px dashed gray;margin: 0 0.4em 0.5em 0.4em;box-sizing: border-box;padding-bottom: 0.4em;background-color: white;}#sk-container-id-1 div.sk-label label {font-family: monospace;font-weight: bold;display: inline-block;line-height: 1.2em;}#sk-container-id-1 div.sk-label-container {text-align: center;}#sk-container-id-1 div.sk-container {/* jupyter's `normalize.less` sets `[hidden] { display: none; }` but bootstrap.min.css set `[hidden] { display: none !important; }` so we also need the `!important` here to be able to override the default hidden behavior on the sphinx rendered scikit-learn.org. See: https://github.com/scikit-learn/scikit-learn/issues/21755 */display: inline-block !important;position: relative;}#sk-container-id-1 div.sk-text-repr-fallback {display: none;}</style><div id=\"sk-container-id-1\" class=\"sk-top-container\"><div class=\"sk-text-repr-fallback\"><pre>LinearRegression()</pre><b>In a Jupyter environment, please rerun this cell to show the HTML representation or trust the notebook. <br />On GitHub, the HTML representation is unable to render, please try loading this page with nbviewer.org.</b></div><div class=\"sk-container\" hidden><div class=\"sk-item\"><div class=\"sk-estimator sk-toggleable\"><input class=\"sk-toggleable__control sk-hidden--visually\" id=\"sk-estimator-id-1\" type=\"checkbox\" checked><label for=\"sk-estimator-id-1\" class=\"sk-toggleable__label sk-toggleable__label-arrow\">LinearRegression</label><div class=\"sk-toggleable__content\"><pre>LinearRegression()</pre></div></div></div></div></div>"
            ]
          },
          "metadata": {},
          "execution_count": 100
        }
      ]
    },
    {
      "cell_type": "code",
      "source": [
        "lin.score(x_train,y_train)"
      ],
      "metadata": {
        "colab": {
          "base_uri": "https://localhost:8080/"
        },
        "id": "Wb0F6ET127sG",
        "outputId": "d2b60173-2732-4163-b8ab-0e28cb800343"
      },
      "execution_count": 101,
      "outputs": [
        {
          "output_type": "execute_result",
          "data": {
            "text/plain": [
              "0.9252124341950851"
            ]
          },
          "metadata": {},
          "execution_count": 101
        }
      ]
    },
    {
      "cell_type": "code",
      "source": [
        "lin.score(x_test,y_test)"
      ],
      "metadata": {
        "colab": {
          "base_uri": "https://localhost:8080/"
        },
        "id": "iHLurjD4281m",
        "outputId": "a7c717b1-191a-4a86-f77e-4b3b888af9a7"
      },
      "execution_count": 102,
      "outputs": [
        {
          "output_type": "execute_result",
          "data": {
            "text/plain": [
              "-4.845292949079717e+27"
            ]
          },
          "metadata": {},
          "execution_count": 102
        }
      ]
    },
    {
      "cell_type": "code",
      "source": [
        "y_pred_test=lin.predict(x_test)\n",
        "y_pred_train=lin.predict(x_train)"
      ],
      "metadata": {
        "id": "PyAIHLt929aV"
      },
      "execution_count": 103,
      "outputs": []
    },
    {
      "cell_type": "code",
      "source": [
        "mse_test=mean_squared_error(y_test,y_pred_test)\n",
        "mse_train=mean_squared_error(y_train,y_pred_train)"
      ],
      "metadata": {
        "id": "rjwegqQ93HYC"
      },
      "execution_count": 104,
      "outputs": []
    },
    {
      "cell_type": "code",
      "source": [
        "print(mse_test)\n",
        "print(mse_train)"
      ],
      "metadata": {
        "colab": {
          "base_uri": "https://localhost:8080/"
        },
        "id": "F7Asj0dk3IKp",
        "outputId": "25564648-6f3b-4b38-c74a-020a5cff9131"
      },
      "execution_count": 105,
      "outputs": [
        {
          "output_type": "stream",
          "name": "stdout",
          "text": [
            "4.336743496755225e+27\n",
            "0.07657186152586123\n"
          ]
        }
      ]
    },
    {
      "cell_type": "code",
      "source": [
        "DT = DecisionTreeRegressor(max_depth=4,random_state=42)\n",
        "DT.fit(x_train, y_train)"
      ],
      "metadata": {
        "colab": {
          "base_uri": "https://localhost:8080/",
          "height": 75
        },
        "id": "ic1Cv8DI3I1o",
        "outputId": "ca1988a9-645b-45f0-fa88-adafbcb064dd"
      },
      "execution_count": 108,
      "outputs": [
        {
          "output_type": "execute_result",
          "data": {
            "text/plain": [
              "DecisionTreeRegressor(max_depth=4, random_state=42)"
            ],
            "text/html": [
              "<style>#sk-container-id-2 {color: black;background-color: white;}#sk-container-id-2 pre{padding: 0;}#sk-container-id-2 div.sk-toggleable {background-color: white;}#sk-container-id-2 label.sk-toggleable__label {cursor: pointer;display: block;width: 100%;margin-bottom: 0;padding: 0.3em;box-sizing: border-box;text-align: center;}#sk-container-id-2 label.sk-toggleable__label-arrow:before {content: \"▸\";float: left;margin-right: 0.25em;color: #696969;}#sk-container-id-2 label.sk-toggleable__label-arrow:hover:before {color: black;}#sk-container-id-2 div.sk-estimator:hover label.sk-toggleable__label-arrow:before {color: black;}#sk-container-id-2 div.sk-toggleable__content {max-height: 0;max-width: 0;overflow: hidden;text-align: left;background-color: #f0f8ff;}#sk-container-id-2 div.sk-toggleable__content pre {margin: 0.2em;color: black;border-radius: 0.25em;background-color: #f0f8ff;}#sk-container-id-2 input.sk-toggleable__control:checked~div.sk-toggleable__content {max-height: 200px;max-width: 100%;overflow: auto;}#sk-container-id-2 input.sk-toggleable__control:checked~label.sk-toggleable__label-arrow:before {content: \"▾\";}#sk-container-id-2 div.sk-estimator input.sk-toggleable__control:checked~label.sk-toggleable__label {background-color: #d4ebff;}#sk-container-id-2 div.sk-label input.sk-toggleable__control:checked~label.sk-toggleable__label {background-color: #d4ebff;}#sk-container-id-2 input.sk-hidden--visually {border: 0;clip: rect(1px 1px 1px 1px);clip: rect(1px, 1px, 1px, 1px);height: 1px;margin: -1px;overflow: hidden;padding: 0;position: absolute;width: 1px;}#sk-container-id-2 div.sk-estimator {font-family: monospace;background-color: #f0f8ff;border: 1px dotted black;border-radius: 0.25em;box-sizing: border-box;margin-bottom: 0.5em;}#sk-container-id-2 div.sk-estimator:hover {background-color: #d4ebff;}#sk-container-id-2 div.sk-parallel-item::after {content: \"\";width: 100%;border-bottom: 1px solid gray;flex-grow: 1;}#sk-container-id-2 div.sk-label:hover label.sk-toggleable__label {background-color: #d4ebff;}#sk-container-id-2 div.sk-serial::before {content: \"\";position: absolute;border-left: 1px solid gray;box-sizing: border-box;top: 0;bottom: 0;left: 50%;z-index: 0;}#sk-container-id-2 div.sk-serial {display: flex;flex-direction: column;align-items: center;background-color: white;padding-right: 0.2em;padding-left: 0.2em;position: relative;}#sk-container-id-2 div.sk-item {position: relative;z-index: 1;}#sk-container-id-2 div.sk-parallel {display: flex;align-items: stretch;justify-content: center;background-color: white;position: relative;}#sk-container-id-2 div.sk-item::before, #sk-container-id-2 div.sk-parallel-item::before {content: \"\";position: absolute;border-left: 1px solid gray;box-sizing: border-box;top: 0;bottom: 0;left: 50%;z-index: -1;}#sk-container-id-2 div.sk-parallel-item {display: flex;flex-direction: column;z-index: 1;position: relative;background-color: white;}#sk-container-id-2 div.sk-parallel-item:first-child::after {align-self: flex-end;width: 50%;}#sk-container-id-2 div.sk-parallel-item:last-child::after {align-self: flex-start;width: 50%;}#sk-container-id-2 div.sk-parallel-item:only-child::after {width: 0;}#sk-container-id-2 div.sk-dashed-wrapped {border: 1px dashed gray;margin: 0 0.4em 0.5em 0.4em;box-sizing: border-box;padding-bottom: 0.4em;background-color: white;}#sk-container-id-2 div.sk-label label {font-family: monospace;font-weight: bold;display: inline-block;line-height: 1.2em;}#sk-container-id-2 div.sk-label-container {text-align: center;}#sk-container-id-2 div.sk-container {/* jupyter's `normalize.less` sets `[hidden] { display: none; }` but bootstrap.min.css set `[hidden] { display: none !important; }` so we also need the `!important` here to be able to override the default hidden behavior on the sphinx rendered scikit-learn.org. See: https://github.com/scikit-learn/scikit-learn/issues/21755 */display: inline-block !important;position: relative;}#sk-container-id-2 div.sk-text-repr-fallback {display: none;}</style><div id=\"sk-container-id-2\" class=\"sk-top-container\"><div class=\"sk-text-repr-fallback\"><pre>DecisionTreeRegressor(max_depth=4, random_state=42)</pre><b>In a Jupyter environment, please rerun this cell to show the HTML representation or trust the notebook. <br />On GitHub, the HTML representation is unable to render, please try loading this page with nbviewer.org.</b></div><div class=\"sk-container\" hidden><div class=\"sk-item\"><div class=\"sk-estimator sk-toggleable\"><input class=\"sk-toggleable__control sk-hidden--visually\" id=\"sk-estimator-id-2\" type=\"checkbox\" checked><label for=\"sk-estimator-id-2\" class=\"sk-toggleable__label sk-toggleable__label-arrow\">DecisionTreeRegressor</label><div class=\"sk-toggleable__content\"><pre>DecisionTreeRegressor(max_depth=4, random_state=42)</pre></div></div></div></div></div>"
            ]
          },
          "metadata": {},
          "execution_count": 108
        }
      ]
    },
    {
      "cell_type": "code",
      "source": [
        "DT.score(x_train,y_train)"
      ],
      "metadata": {
        "colab": {
          "base_uri": "https://localhost:8080/"
        },
        "id": "ts2PXEWe3N7O",
        "outputId": "6988a3fb-13f8-4874-bf7c-055d04947de2"
      },
      "execution_count": 109,
      "outputs": [
        {
          "output_type": "execute_result",
          "data": {
            "text/plain": [
              "0.7319722110382323"
            ]
          },
          "metadata": {},
          "execution_count": 109
        }
      ]
    },
    {
      "cell_type": "code",
      "source": [
        "DT.score(x_test,y_test)"
      ],
      "metadata": {
        "colab": {
          "base_uri": "https://localhost:8080/"
        },
        "id": "-26k-QPW3Wdh",
        "outputId": "7736c301-a862-481b-e7a1-1d8e4bdc1a0a"
      },
      "execution_count": 110,
      "outputs": [
        {
          "output_type": "execute_result",
          "data": {
            "text/plain": [
              "0.690231878060728"
            ]
          },
          "metadata": {},
          "execution_count": 110
        }
      ]
    },
    {
      "cell_type": "code",
      "source": [
        "y_pred_test=DT.predict(x_test)\n",
        "y_pred_train=DT.predict(x_train)"
      ],
      "metadata": {
        "id": "kEB3ZgHQ3XWz"
      },
      "execution_count": 111,
      "outputs": []
    },
    {
      "cell_type": "code",
      "source": [
        "mse_test=mean_squared_error(y_test,y_pred_test)\n",
        "mse_train=mean_squared_error(y_train,y_pred_train)"
      ],
      "metadata": {
        "id": "P4-XFKzv3ZPy"
      },
      "execution_count": 112,
      "outputs": []
    },
    {
      "cell_type": "code",
      "source": [
        "print(mse_test)\n",
        "print(mse_train)"
      ],
      "metadata": {
        "colab": {
          "base_uri": "https://localhost:8080/"
        },
        "id": "CgqUwbvL3aAk",
        "outputId": "b135bc5d-5064-4dd5-8923-d7f0da3a7ad5"
      },
      "execution_count": 113,
      "outputs": [
        {
          "output_type": "stream",
          "name": "stdout",
          "text": [
            "0.27725565872696534\n",
            "0.27442244603867694\n"
          ]
        }
      ]
    },
    {
      "cell_type": "code",
      "source": [
        "param_grid = {\n",
        "    'max_depth': [3, 5, 7, 10, None],\n",
        "    'min_samples_split': [2, 5, 10, 15, 20]\n",
        "}"
      ],
      "metadata": {
        "id": "5v992MnM3-QO"
      },
      "execution_count": 119,
      "outputs": []
    },
    {
      "cell_type": "code",
      "source": [
        "dtr = DecisionTreeRegressor(random_state=42)\n",
        "model = GridSearchCV(estimator=dtr, param_grid=param_grid, cv=5, n_jobs=-1, scoring='neg_mean_squared_error')\n",
        "model.fit(x_train, y_train)"
      ],
      "metadata": {
        "colab": {
          "base_uri": "https://localhost:8080/",
          "height": 118
        },
        "id": "zC-B_nI54BbP",
        "outputId": "9d311eff-7238-47f8-fdf5-cc08dbd76e8c"
      },
      "execution_count": 120,
      "outputs": [
        {
          "output_type": "execute_result",
          "data": {
            "text/plain": [
              "GridSearchCV(cv=5, estimator=DecisionTreeRegressor(random_state=42), n_jobs=-1,\n",
              "             param_grid={'max_depth': [3, 5, 7, 10, None],\n",
              "                         'min_samples_split': [2, 5, 10, 15, 20]},\n",
              "             scoring='neg_mean_squared_error')"
            ],
            "text/html": [
              "<style>#sk-container-id-3 {color: black;background-color: white;}#sk-container-id-3 pre{padding: 0;}#sk-container-id-3 div.sk-toggleable {background-color: white;}#sk-container-id-3 label.sk-toggleable__label {cursor: pointer;display: block;width: 100%;margin-bottom: 0;padding: 0.3em;box-sizing: border-box;text-align: center;}#sk-container-id-3 label.sk-toggleable__label-arrow:before {content: \"▸\";float: left;margin-right: 0.25em;color: #696969;}#sk-container-id-3 label.sk-toggleable__label-arrow:hover:before {color: black;}#sk-container-id-3 div.sk-estimator:hover label.sk-toggleable__label-arrow:before {color: black;}#sk-container-id-3 div.sk-toggleable__content {max-height: 0;max-width: 0;overflow: hidden;text-align: left;background-color: #f0f8ff;}#sk-container-id-3 div.sk-toggleable__content pre {margin: 0.2em;color: black;border-radius: 0.25em;background-color: #f0f8ff;}#sk-container-id-3 input.sk-toggleable__control:checked~div.sk-toggleable__content {max-height: 200px;max-width: 100%;overflow: auto;}#sk-container-id-3 input.sk-toggleable__control:checked~label.sk-toggleable__label-arrow:before {content: \"▾\";}#sk-container-id-3 div.sk-estimator input.sk-toggleable__control:checked~label.sk-toggleable__label {background-color: #d4ebff;}#sk-container-id-3 div.sk-label input.sk-toggleable__control:checked~label.sk-toggleable__label {background-color: #d4ebff;}#sk-container-id-3 input.sk-hidden--visually {border: 0;clip: rect(1px 1px 1px 1px);clip: rect(1px, 1px, 1px, 1px);height: 1px;margin: -1px;overflow: hidden;padding: 0;position: absolute;width: 1px;}#sk-container-id-3 div.sk-estimator {font-family: monospace;background-color: #f0f8ff;border: 1px dotted black;border-radius: 0.25em;box-sizing: border-box;margin-bottom: 0.5em;}#sk-container-id-3 div.sk-estimator:hover {background-color: #d4ebff;}#sk-container-id-3 div.sk-parallel-item::after {content: \"\";width: 100%;border-bottom: 1px solid gray;flex-grow: 1;}#sk-container-id-3 div.sk-label:hover label.sk-toggleable__label {background-color: #d4ebff;}#sk-container-id-3 div.sk-serial::before {content: \"\";position: absolute;border-left: 1px solid gray;box-sizing: border-box;top: 0;bottom: 0;left: 50%;z-index: 0;}#sk-container-id-3 div.sk-serial {display: flex;flex-direction: column;align-items: center;background-color: white;padding-right: 0.2em;padding-left: 0.2em;position: relative;}#sk-container-id-3 div.sk-item {position: relative;z-index: 1;}#sk-container-id-3 div.sk-parallel {display: flex;align-items: stretch;justify-content: center;background-color: white;position: relative;}#sk-container-id-3 div.sk-item::before, #sk-container-id-3 div.sk-parallel-item::before {content: \"\";position: absolute;border-left: 1px solid gray;box-sizing: border-box;top: 0;bottom: 0;left: 50%;z-index: -1;}#sk-container-id-3 div.sk-parallel-item {display: flex;flex-direction: column;z-index: 1;position: relative;background-color: white;}#sk-container-id-3 div.sk-parallel-item:first-child::after {align-self: flex-end;width: 50%;}#sk-container-id-3 div.sk-parallel-item:last-child::after {align-self: flex-start;width: 50%;}#sk-container-id-3 div.sk-parallel-item:only-child::after {width: 0;}#sk-container-id-3 div.sk-dashed-wrapped {border: 1px dashed gray;margin: 0 0.4em 0.5em 0.4em;box-sizing: border-box;padding-bottom: 0.4em;background-color: white;}#sk-container-id-3 div.sk-label label {font-family: monospace;font-weight: bold;display: inline-block;line-height: 1.2em;}#sk-container-id-3 div.sk-label-container {text-align: center;}#sk-container-id-3 div.sk-container {/* jupyter's `normalize.less` sets `[hidden] { display: none; }` but bootstrap.min.css set `[hidden] { display: none !important; }` so we also need the `!important` here to be able to override the default hidden behavior on the sphinx rendered scikit-learn.org. See: https://github.com/scikit-learn/scikit-learn/issues/21755 */display: inline-block !important;position: relative;}#sk-container-id-3 div.sk-text-repr-fallback {display: none;}</style><div id=\"sk-container-id-3\" class=\"sk-top-container\"><div class=\"sk-text-repr-fallback\"><pre>GridSearchCV(cv=5, estimator=DecisionTreeRegressor(random_state=42), n_jobs=-1,\n",
              "             param_grid={&#x27;max_depth&#x27;: [3, 5, 7, 10, None],\n",
              "                         &#x27;min_samples_split&#x27;: [2, 5, 10, 15, 20]},\n",
              "             scoring=&#x27;neg_mean_squared_error&#x27;)</pre><b>In a Jupyter environment, please rerun this cell to show the HTML representation or trust the notebook. <br />On GitHub, the HTML representation is unable to render, please try loading this page with nbviewer.org.</b></div><div class=\"sk-container\" hidden><div class=\"sk-item sk-dashed-wrapped\"><div class=\"sk-label-container\"><div class=\"sk-label sk-toggleable\"><input class=\"sk-toggleable__control sk-hidden--visually\" id=\"sk-estimator-id-3\" type=\"checkbox\" ><label for=\"sk-estimator-id-3\" class=\"sk-toggleable__label sk-toggleable__label-arrow\">GridSearchCV</label><div class=\"sk-toggleable__content\"><pre>GridSearchCV(cv=5, estimator=DecisionTreeRegressor(random_state=42), n_jobs=-1,\n",
              "             param_grid={&#x27;max_depth&#x27;: [3, 5, 7, 10, None],\n",
              "                         &#x27;min_samples_split&#x27;: [2, 5, 10, 15, 20]},\n",
              "             scoring=&#x27;neg_mean_squared_error&#x27;)</pre></div></div></div><div class=\"sk-parallel\"><div class=\"sk-parallel-item\"><div class=\"sk-item\"><div class=\"sk-label-container\"><div class=\"sk-label sk-toggleable\"><input class=\"sk-toggleable__control sk-hidden--visually\" id=\"sk-estimator-id-4\" type=\"checkbox\" ><label for=\"sk-estimator-id-4\" class=\"sk-toggleable__label sk-toggleable__label-arrow\">estimator: DecisionTreeRegressor</label><div class=\"sk-toggleable__content\"><pre>DecisionTreeRegressor(random_state=42)</pre></div></div></div><div class=\"sk-serial\"><div class=\"sk-item\"><div class=\"sk-estimator sk-toggleable\"><input class=\"sk-toggleable__control sk-hidden--visually\" id=\"sk-estimator-id-5\" type=\"checkbox\" ><label for=\"sk-estimator-id-5\" class=\"sk-toggleable__label sk-toggleable__label-arrow\">DecisionTreeRegressor</label><div class=\"sk-toggleable__content\"><pre>DecisionTreeRegressor(random_state=42)</pre></div></div></div></div></div></div></div></div></div></div>"
            ]
          },
          "metadata": {},
          "execution_count": 120
        }
      ]
    },
    {
      "cell_type": "code",
      "source": [
        "model.best_params_"
      ],
      "metadata": {
        "colab": {
          "base_uri": "https://localhost:8080/"
        },
        "id": "pOZUvSmd4G1Q",
        "outputId": "b0dad18c-d20b-4726-8236-80e5b8d2b558"
      },
      "execution_count": 121,
      "outputs": [
        {
          "output_type": "execute_result",
          "data": {
            "text/plain": [
              "{'max_depth': None, 'min_samples_split': 15}"
            ]
          },
          "metadata": {},
          "execution_count": 121
        }
      ]
    },
    {
      "cell_type": "code",
      "source": [
        "best_model = model.best_estimator_\n",
        "y_pred_test = best_model.predict(x_test)\n",
        "y_pred_train = best_model.predict(x_train)\n",
        "mse_test = mean_squared_error(y_test, y_pred_test)\n",
        "mse_train = mean_squared_error(y_train, y_pred_train)"
      ],
      "metadata": {
        "id": "TiOE30jf4KDo"
      },
      "execution_count": 122,
      "outputs": []
    },
    {
      "cell_type": "code",
      "source": [
        "print(mse_test)\n",
        "print(mse_train)"
      ],
      "metadata": {
        "colab": {
          "base_uri": "https://localhost:8080/"
        },
        "id": "wbyJnBQW4LPM",
        "outputId": "b996d102-2a50-4c5c-af2c-23580cca3de6"
      },
      "execution_count": 123,
      "outputs": [
        {
          "output_type": "stream",
          "name": "stdout",
          "text": [
            "0.1873399432417596\n",
            "0.059852926155450445\n"
          ]
        }
      ]
    },
    {
      "cell_type": "code",
      "source": [
        "best_model.score(x_train,y_train)"
      ],
      "metadata": {
        "colab": {
          "base_uri": "https://localhost:8080/"
        },
        "id": "QQXcZ0f84MgH",
        "outputId": "a982122a-74cf-4a28-8789-ecea93a71703"
      },
      "execution_count": 124,
      "outputs": [
        {
          "output_type": "execute_result",
          "data": {
            "text/plain": [
              "0.9415417809588493"
            ]
          },
          "metadata": {},
          "execution_count": 124
        }
      ]
    },
    {
      "cell_type": "code",
      "source": [
        "best_model.score(x_test,y_test)"
      ],
      "metadata": {
        "colab": {
          "base_uri": "https://localhost:8080/"
        },
        "id": "RE0L1ka-4N21",
        "outputId": "72fcaa64-5dc2-4e93-b9aa-10ee1f6f05ae"
      },
      "execution_count": 125,
      "outputs": [
        {
          "output_type": "execute_result",
          "data": {
            "text/plain": [
              "0.7906915853452133"
            ]
          },
          "metadata": {},
          "execution_count": 125
        }
      ]
    },
    {
      "cell_type": "markdown",
      "source": [
        "DT overfits"
      ],
      "metadata": {
        "id": "uVxskx3s4QSb"
      }
    },
    {
      "cell_type": "code",
      "source": [
        "rf= RandomForestRegressor(random_state=42,n_estimators=50)\n",
        "rf.fit(x_train,y_train)"
      ],
      "metadata": {
        "colab": {
          "base_uri": "https://localhost:8080/",
          "height": 75
        },
        "id": "slkpMo0O4PFr",
        "outputId": "18ed7add-b588-4e65-a756-f0a53afb07e4"
      },
      "execution_count": 127,
      "outputs": [
        {
          "output_type": "execute_result",
          "data": {
            "text/plain": [
              "RandomForestRegressor(n_estimators=50, random_state=42)"
            ],
            "text/html": [
              "<style>#sk-container-id-4 {color: black;background-color: white;}#sk-container-id-4 pre{padding: 0;}#sk-container-id-4 div.sk-toggleable {background-color: white;}#sk-container-id-4 label.sk-toggleable__label {cursor: pointer;display: block;width: 100%;margin-bottom: 0;padding: 0.3em;box-sizing: border-box;text-align: center;}#sk-container-id-4 label.sk-toggleable__label-arrow:before {content: \"▸\";float: left;margin-right: 0.25em;color: #696969;}#sk-container-id-4 label.sk-toggleable__label-arrow:hover:before {color: black;}#sk-container-id-4 div.sk-estimator:hover label.sk-toggleable__label-arrow:before {color: black;}#sk-container-id-4 div.sk-toggleable__content {max-height: 0;max-width: 0;overflow: hidden;text-align: left;background-color: #f0f8ff;}#sk-container-id-4 div.sk-toggleable__content pre {margin: 0.2em;color: black;border-radius: 0.25em;background-color: #f0f8ff;}#sk-container-id-4 input.sk-toggleable__control:checked~div.sk-toggleable__content {max-height: 200px;max-width: 100%;overflow: auto;}#sk-container-id-4 input.sk-toggleable__control:checked~label.sk-toggleable__label-arrow:before {content: \"▾\";}#sk-container-id-4 div.sk-estimator input.sk-toggleable__control:checked~label.sk-toggleable__label {background-color: #d4ebff;}#sk-container-id-4 div.sk-label input.sk-toggleable__control:checked~label.sk-toggleable__label {background-color: #d4ebff;}#sk-container-id-4 input.sk-hidden--visually {border: 0;clip: rect(1px 1px 1px 1px);clip: rect(1px, 1px, 1px, 1px);height: 1px;margin: -1px;overflow: hidden;padding: 0;position: absolute;width: 1px;}#sk-container-id-4 div.sk-estimator {font-family: monospace;background-color: #f0f8ff;border: 1px dotted black;border-radius: 0.25em;box-sizing: border-box;margin-bottom: 0.5em;}#sk-container-id-4 div.sk-estimator:hover {background-color: #d4ebff;}#sk-container-id-4 div.sk-parallel-item::after {content: \"\";width: 100%;border-bottom: 1px solid gray;flex-grow: 1;}#sk-container-id-4 div.sk-label:hover label.sk-toggleable__label {background-color: #d4ebff;}#sk-container-id-4 div.sk-serial::before {content: \"\";position: absolute;border-left: 1px solid gray;box-sizing: border-box;top: 0;bottom: 0;left: 50%;z-index: 0;}#sk-container-id-4 div.sk-serial {display: flex;flex-direction: column;align-items: center;background-color: white;padding-right: 0.2em;padding-left: 0.2em;position: relative;}#sk-container-id-4 div.sk-item {position: relative;z-index: 1;}#sk-container-id-4 div.sk-parallel {display: flex;align-items: stretch;justify-content: center;background-color: white;position: relative;}#sk-container-id-4 div.sk-item::before, #sk-container-id-4 div.sk-parallel-item::before {content: \"\";position: absolute;border-left: 1px solid gray;box-sizing: border-box;top: 0;bottom: 0;left: 50%;z-index: -1;}#sk-container-id-4 div.sk-parallel-item {display: flex;flex-direction: column;z-index: 1;position: relative;background-color: white;}#sk-container-id-4 div.sk-parallel-item:first-child::after {align-self: flex-end;width: 50%;}#sk-container-id-4 div.sk-parallel-item:last-child::after {align-self: flex-start;width: 50%;}#sk-container-id-4 div.sk-parallel-item:only-child::after {width: 0;}#sk-container-id-4 div.sk-dashed-wrapped {border: 1px dashed gray;margin: 0 0.4em 0.5em 0.4em;box-sizing: border-box;padding-bottom: 0.4em;background-color: white;}#sk-container-id-4 div.sk-label label {font-family: monospace;font-weight: bold;display: inline-block;line-height: 1.2em;}#sk-container-id-4 div.sk-label-container {text-align: center;}#sk-container-id-4 div.sk-container {/* jupyter's `normalize.less` sets `[hidden] { display: none; }` but bootstrap.min.css set `[hidden] { display: none !important; }` so we also need the `!important` here to be able to override the default hidden behavior on the sphinx rendered scikit-learn.org. See: https://github.com/scikit-learn/scikit-learn/issues/21755 */display: inline-block !important;position: relative;}#sk-container-id-4 div.sk-text-repr-fallback {display: none;}</style><div id=\"sk-container-id-4\" class=\"sk-top-container\"><div class=\"sk-text-repr-fallback\"><pre>RandomForestRegressor(n_estimators=50, random_state=42)</pre><b>In a Jupyter environment, please rerun this cell to show the HTML representation or trust the notebook. <br />On GitHub, the HTML representation is unable to render, please try loading this page with nbviewer.org.</b></div><div class=\"sk-container\" hidden><div class=\"sk-item\"><div class=\"sk-estimator sk-toggleable\"><input class=\"sk-toggleable__control sk-hidden--visually\" id=\"sk-estimator-id-6\" type=\"checkbox\" checked><label for=\"sk-estimator-id-6\" class=\"sk-toggleable__label sk-toggleable__label-arrow\">RandomForestRegressor</label><div class=\"sk-toggleable__content\"><pre>RandomForestRegressor(n_estimators=50, random_state=42)</pre></div></div></div></div></div>"
            ]
          },
          "metadata": {},
          "execution_count": 127
        }
      ]
    },
    {
      "cell_type": "code",
      "source": [
        "rf.score(x_train,y_train)"
      ],
      "metadata": {
        "colab": {
          "base_uri": "https://localhost:8080/"
        },
        "id": "2f84AmuD4jEJ",
        "outputId": "dce10e5c-db07-46c6-9b5b-e55b78fd1864"
      },
      "execution_count": 128,
      "outputs": [
        {
          "output_type": "execute_result",
          "data": {
            "text/plain": [
              "0.9810334618656804"
            ]
          },
          "metadata": {},
          "execution_count": 128
        }
      ]
    },
    {
      "cell_type": "code",
      "source": [
        "rf.score(x_test,y_test)"
      ],
      "metadata": {
        "colab": {
          "base_uri": "https://localhost:8080/"
        },
        "id": "jRtgfYY-4kiw",
        "outputId": "675bb7a0-2eeb-4f29-f2a8-a69ea42e08ce"
      },
      "execution_count": 129,
      "outputs": [
        {
          "output_type": "execute_result",
          "data": {
            "text/plain": [
              "0.876378797058496"
            ]
          },
          "metadata": {},
          "execution_count": 129
        }
      ]
    },
    {
      "cell_type": "code",
      "source": [
        "y_pred_test=rf.predict(x_test)\n",
        "y_pred_train=rf.predict(x_train)"
      ],
      "metadata": {
        "id": "QLPCjdyE4l7x"
      },
      "execution_count": 130,
      "outputs": []
    },
    {
      "cell_type": "code",
      "source": [
        "mse_test=mean_squared_error(y_test,y_pred_test)\n",
        "mse_train=mean_squared_error(y_train,y_pred_train)"
      ],
      "metadata": {
        "id": "WBJKLPQG4ntC"
      },
      "execution_count": 131,
      "outputs": []
    },
    {
      "cell_type": "code",
      "source": [
        "print(mse_test)\n",
        "print(mse_train)"
      ],
      "metadata": {
        "colab": {
          "base_uri": "https://localhost:8080/"
        },
        "id": "t2FQlF5J4oVi",
        "outputId": "606e6c0b-afbc-4ed7-e78a-bb50c6a40d00"
      },
      "execution_count": 132,
      "outputs": [
        {
          "output_type": "stream",
          "name": "stdout",
          "text": [
            "0.11064624028965092\n",
            "0.019419045345511816\n"
          ]
        }
      ]
    },
    {
      "cell_type": "code",
      "source": [],
      "metadata": {
        "id": "ag0zK_CL4o8i"
      },
      "execution_count": null,
      "outputs": []
    }
  ]
}